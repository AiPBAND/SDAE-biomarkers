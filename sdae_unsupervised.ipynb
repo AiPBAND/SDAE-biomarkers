{
 "cells": [
  {
   "cell_type": "markdown",
   "metadata": {},
   "source": [
    "# Unsupervised training of the encoder layers"
   ]
  },
  {
   "cell_type": "markdown",
   "metadata": {},
   "source": [
    "## Initial setup\n",
    "### Imports"
   ]
  },
  {
   "cell_type": "code",
   "execution_count": 10,
   "metadata": {
    "execution": {
     "iopub.execute_input": "2020-08-07T06:07:28.398018Z",
     "iopub.status.busy": "2020-08-07T06:07:28.397628Z",
     "iopub.status.idle": "2020-08-07T06:07:28.407646Z",
     "shell.execute_reply": "2020-08-07T06:07:28.406033Z",
     "shell.execute_reply.started": "2020-08-07T06:07:28.397970Z"
    }
   },
   "outputs": [
    {
     "name": "stdout",
     "output_type": "stream",
     "text": [
      "2.2.0-dlenv\n"
     ]
    }
   ],
   "source": [
    "import tensorflow as tf\n",
    "print(tf.__version__)\n",
    "import pandas as pd\n",
    "import numpy as np\n",
    "from datetime import datetime\n",
    "from models import Autoencoder, EncoderStack\n",
    "from tensorflow.keras.layers.experimental.preprocessing import Normalization\n",
    "from tensorflow.keras.utils import to_categorical\n",
    "from sklearn.model_selection import ShuffleSplit\n",
    "from sklearn.preprocessing import normalize\n",
    "import dataset\n",
    "import neptune\n",
    "import neptune_tensorboard as neptune_tb\n",
    "import os\n",
    "import logging"
   ]
  },
  {
   "cell_type": "markdown",
   "metadata": {},
   "source": [
    "### Set experiment configuration"
   ]
  },
  {
   "cell_type": "code",
   "execution_count": 11,
   "metadata": {
    "execution": {
     "iopub.execute_input": "2020-08-07T06:07:28.414560Z",
     "iopub.status.busy": "2020-08-07T06:07:28.414167Z",
     "iopub.status.idle": "2020-08-07T06:07:28.420313Z",
     "shell.execute_reply": "2020-08-07T06:07:28.419153Z",
     "shell.execute_reply.started": "2020-08-07T06:07:28.414525Z"
    }
   },
   "outputs": [],
   "source": [
    "config = {\n",
    "    \"N_NODES\": [2000, 1000, 500],\n",
    "    \"DROPOUT\": [0.1],\n",
    "    \"BATCH_SIZE\": 15,\n",
    "    \"EPOCHS\": 100,\n",
    "    \"TEST_RATIO\": 0.20,\n",
    "    \"DATA_BUCKET\": \"sdae-geo\",\n",
    "    \"DATA_OBJECT\": \"GEO_data_batch_corr_final.csv\",\n",
    "    \"DATA_LABELS\": \" GBM_class.csv\",\n",
    "    \"VERBOSITY\": 2,\n",
    "    \"LOG_DIR\": \"./log_dir\",\n",
    "    \"PATIENCE\":3\n",
    "}\n"
   ]
  },
  {
   "cell_type": "markdown",
   "metadata": {},
   "source": [
    "## Initialize Netptune and Tensorboard logging"
   ]
  },
  {
   "cell_type": "code",
   "execution_count": 12,
   "metadata": {
    "execution": {
     "iopub.execute_input": "2020-08-07T06:07:28.434674Z",
     "iopub.status.busy": "2020-08-07T06:07:28.434339Z",
     "iopub.status.idle": "2020-08-07T06:07:34.835485Z",
     "shell.execute_reply": "2020-08-07T06:07:34.834049Z",
     "shell.execute_reply.started": "2020-08-07T06:07:28.434643Z"
    }
   },
   "outputs": [
    {
     "name": "stderr",
     "output_type": "stream",
     "text": [
      "NVMLError: NVML Shared Library Not Found - GPU usage metrics may not be reported.\n"
     ]
    },
    {
     "name": "stdout",
     "output_type": "stream",
     "text": [
      "https://ui.neptune.ai/AiPBBAND/SDAE/e/SAN-2\n"
     ]
    },
    {
     "name": "stderr",
     "output_type": "stream",
     "text": [
      "project directory: ./log_dir/SAN-2\n",
      "project directory: ./log_dir/SAN-2\n"
     ]
    },
    {
     "name": "stdout",
     "output_type": "stream",
     "text": [
      "The tensorboard extension is already loaded. To reload it, use:\n",
      "  %reload_ext tensorboard\n"
     ]
    }
   ],
   "source": [
    "os.environ['NEPTUNE_API_TOKEN']=\"eyJhcGlfYWRkcmVzcyI6Imh0dHBzOi8vdWkubmVwdHVuZS5haSIsImFwaV91cmwiOiJodHRwczovL3VpLm5lcHR1bmUuYWkiLCJhcGlfa2V5IjoiYjNiYmZhYjEtNzc3ZS00Y2NhLWI5NTgtYWU0MmQyMWJhM2I0In0=\"\n",
    "os.environ['NEPTUNE_PROJECT']='AiPBBAND/SDAE'\n",
    "os.environ['NEPTUNE_NOTEBOOK_ID']=\"ecd86e96-4da7-44e3-9a17-43da2dfcae35\"\n",
    "os.environ['NEPTUNE_NOTEBOOK_PATH']=\"constrained-SDAE/sdae.ipynb\"\n",
    "\n",
    "neptune.init(os.environ['NEPTUNE_PROJECT'], api_token=os.environ['NEPTUNE_API_TOKEN'])\n",
    "\n",
    "logger = logging.getLogger(\"SDAE\")\n",
    "logger.setLevel(logging.DEBUG)\n",
    "logger.addHandler(logging.StreamHandler())\n",
    "\n",
    "experiment = neptune.create_experiment(name='configuration', params=config, \n",
    "    logger=logger, source=[\"dataset.py\", \"models.py\"])\n",
    "\n",
    "os.environ['EXP_DIR'] = os.path.join(config[\"LOG_DIR\"], experiment.id)\n",
    "os.mkdir(os.environ['EXP_DIR'])\n",
    "\n",
    "logger.info(\"project directory: {}\".format(os.environ['EXP_DIR']))\n",
    "!neptune tensorboard ${EXP_DIR} --project ${NEPTUNE_PROJECT}\n",
    "%load_ext tensorboard"
   ]
  },
  {
   "cell_type": "markdown",
   "metadata": {},
   "source": [
    "### Start tensorboard server\n",
    "Tensorboard by running the following command in a terminal:"
   ]
  },
  {
   "cell_type": "code",
   "execution_count": 13,
   "metadata": {
    "execution": {
     "iopub.execute_input": "2020-08-07T06:07:34.837735Z",
     "iopub.status.busy": "2020-08-07T06:07:34.837381Z",
     "iopub.status.idle": "2020-08-07T06:07:34.843200Z",
     "shell.execute_reply": "2020-08-07T06:07:34.842246Z",
     "shell.execute_reply.started": "2020-08-07T06:07:34.837684Z"
    }
   },
   "outputs": [
    {
     "name": "stdout",
     "output_type": "stream",
     "text": [
      "tensorboard --logdir ./log_dir/SAN-2 --bind_all\n"
     ]
    }
   ],
   "source": [
    "print(\"tensorboard --logdir {} --bind_all\".format(os.environ['EXP_DIR']))"
   ]
  },
  {
   "cell_type": "markdown",
   "metadata": {
    "execution": {
     "iopub.execute_input": "2020-08-07T00:26:47.747982Z",
     "iopub.status.busy": "2020-08-07T00:26:47.747592Z",
     "iopub.status.idle": "2020-08-07T00:26:47.754814Z",
     "shell.execute_reply": "2020-08-07T00:26:47.753548Z",
     "shell.execute_reply.started": "2020-08-07T00:26:47.747952Z"
    }
   },
   "source": [
    "**Tensorboard cannot server over HTTPS, use external HTTP url: http://34.77.45.86:6006/**"
   ]
  },
  {
   "cell_type": "markdown",
   "metadata": {},
   "source": [
    "# Load and preprocess the data"
   ]
  },
  {
   "cell_type": "markdown",
   "metadata": {},
   "source": [
    "## Load data from Google Storage"
   ]
  },
  {
   "cell_type": "code",
   "execution_count": 14,
   "metadata": {
    "execution": {
     "iopub.execute_input": "2020-08-07T06:07:34.845495Z",
     "iopub.status.busy": "2020-08-07T06:07:34.845138Z",
     "iopub.status.idle": "2020-08-07T06:07:38.081850Z",
     "shell.execute_reply": "2020-08-07T06:07:38.080596Z",
     "shell.execute_reply.started": "2020-08-07T06:07:34.845447Z"
    }
   },
   "outputs": [
    {
     "name": "stderr",
     "output_type": "stream",
     "text": [
      "Initializing dataset...\n",
      "Initializing dataset...\n",
      "Downloading data files from GS storage.\n",
      "Downloading data files from GS storage.\n",
      "File GEO_data_batch_corr_final.csv downloaded to ./log_dir/SAN-2/GEO_data_batch_corr_final.csv.\n",
      "File GEO_data_batch_corr_final.csv downloaded to ./log_dir/SAN-2/GEO_data_batch_corr_final.csv.\n",
      "Loaded 954 samples with 6785 features.\n",
      "Loaded 954 samples with 6785 features.\n"
     ]
    }
   ],
   "source": [
    "dataframe = dataset.load_gs_data(config['DATA_BUCKET'], config['DATA_OBJECT'], os.environ['EXP_DIR'])"
   ]
  },
  {
   "cell_type": "markdown",
   "metadata": {},
   "source": [
    "## Normalize data feature-wize"
   ]
  },
  {
   "cell_type": "code",
   "execution_count": 15,
   "metadata": {
    "execution": {
     "iopub.execute_input": "2020-08-07T06:07:38.084022Z",
     "iopub.status.busy": "2020-08-07T06:07:38.083660Z",
     "iopub.status.idle": "2020-08-07T06:07:38.132782Z",
     "shell.execute_reply": "2020-08-07T06:07:38.131193Z",
     "shell.execute_reply.started": "2020-08-07T06:07:38.083980Z"
    }
   },
   "outputs": [],
   "source": [
    "data = dataframe.values\n",
    "data = normalize(data)"
   ]
  },
  {
   "cell_type": "markdown",
   "metadata": {},
   "source": [
    "## Split into training and testing sets"
   ]
  },
  {
   "cell_type": "code",
   "execution_count": 16,
   "metadata": {
    "execution": {
     "iopub.execute_input": "2020-08-07T06:07:38.135197Z",
     "iopub.status.busy": "2020-08-07T06:07:38.134645Z",
     "iopub.status.idle": "2020-08-07T06:07:38.816532Z",
     "shell.execute_reply": "2020-08-07T06:07:38.815537Z",
     "shell.execute_reply.started": "2020-08-07T06:07:38.135077Z"
    }
   },
   "outputs": [
    {
     "name": "stderr",
     "output_type": "stream",
     "text": [
      "20% of samples for training: 763 training, 191 testing.\n",
      "20% of samples for training: 763 training, 191 testing.\n"
     ]
    }
   ],
   "source": [
    "rs = ShuffleSplit(n_splits=1, test_size=config['TEST_RATIO'], random_state=0)\n",
    "split_itterator = rs.split(data)\n",
    "i_train, i_test = next(split_itterator)\n",
    "train_path = os.path.join(os.environ['EXP_DIR'], \"train_indices.npy\")\n",
    "test_path = os.path.join(os.environ['EXP_DIR'], \"test_indices.npy\")\n",
    "np.save(train_path, i_train)\n",
    "np.save(test_path, i_test)\n",
    "neptune.log_artifact(train_path)\n",
    "neptune.log_artifact(test_path)\n",
    "\n",
    "x_train, x_test = data[i_train], data[i_test]\n",
    "\n",
    "logger.info(\"{}% of samples for training: {} training, {} testing.\".format(int(config['TEST_RATIO']*100), len(i_train), len(i_test)))"
   ]
  },
  {
   "cell_type": "markdown",
   "metadata": {
    "execution": {
     "iopub.execute_input": "2020-07-27T03:12:17.561113Z",
     "iopub.status.busy": "2020-07-27T03:12:17.560466Z",
     "iopub.status.idle": "2020-07-27T03:12:17.565053Z",
     "shell.execute_reply": "2020-07-27T03:12:17.564431Z",
     "shell.execute_reply.started": "2020-07-27T03:12:17.561079Z"
    }
   },
   "source": [
    "# Train encoder layers"
   ]
  },
  {
   "cell_type": "code",
   "execution_count": 17,
   "metadata": {
    "execution": {
     "iopub.execute_input": "2020-08-07T06:07:38.818072Z",
     "iopub.status.busy": "2020-08-07T06:07:38.817732Z",
     "iopub.status.idle": "2020-08-07T06:17:28.064620Z",
     "shell.execute_reply": "2020-08-07T06:17:28.063584Z",
     "shell.execute_reply.started": "2020-08-07T06:07:38.818040Z"
    }
   },
   "outputs": [
    {
     "name": "stderr",
     "output_type": "stream",
     "text": [
      "Starting training for 3 encoder layers.\n",
      "Starting training for 3 encoder layers.\n",
      "Training layer 0 with 2000 hidden nodes..\n",
      "Training layer 0 with 2000 hidden nodes..\n"
     ]
    },
    {
     "name": "stdout",
     "output_type": "stream",
     "text": [
      "Epoch 1/100\n",
      "51/51 [==============================] - 11s 222ms/step - loss: 0.1742 - val_loss: 0.0683\n",
      "Epoch 2/100\n",
      "51/51 [==============================] - 11s 215ms/step - loss: 0.0202 - val_loss: 0.0057\n",
      "Epoch 3/100\n",
      "51/51 [==============================] - 11s 215ms/step - loss: 0.0029 - val_loss: 0.0035\n",
      "Epoch 4/100\n",
      "51/51 [==============================] - 11s 213ms/step - loss: 0.0011 - val_loss: 7.6653e-04\n",
      "Epoch 5/100\n",
      "51/51 [==============================] - 11s 219ms/step - loss: 4.6854e-04 - val_loss: 3.2537e-04\n",
      "Epoch 6/100\n",
      "51/51 [==============================] - 11s 213ms/step - loss: 2.5074e-04 - val_loss: 1.8888e-04\n",
      "Epoch 7/100\n",
      "51/51 [==============================] - 11s 217ms/step - loss: 1.4555e-04 - val_loss: 1.1732e-04\n",
      "Epoch 8/100\n",
      "51/51 [==============================] - 11s 211ms/step - loss: 9.4232e-05 - val_loss: 7.2665e-05\n",
      "Epoch 9/100\n",
      "51/51 [==============================] - 11s 218ms/step - loss: 6.3726e-05 - val_loss: 4.9887e-05\n",
      "Epoch 10/100\n",
      "51/51 [==============================] - 11s 213ms/step - loss: 4.6032e-05 - val_loss: 4.3132e-05\n",
      "Epoch 11/100\n",
      "51/51 [==============================] - 11s 223ms/step - loss: 3.5671e-05 - val_loss: 3.4654e-05\n",
      "Epoch 12/100\n",
      "51/51 [==============================] - 11s 221ms/step - loss: 2.8083e-05 - val_loss: 2.5992e-05\n",
      "Epoch 13/100\n",
      "51/51 [==============================] - 11s 220ms/step - loss: 2.2694e-05 - val_loss: 2.1191e-05\n",
      "Epoch 14/100\n",
      "51/51 [==============================] - 11s 214ms/step - loss: 1.9387e-05 - val_loss: 1.8341e-05\n",
      "Epoch 15/100\n",
      "51/51 [==============================] - 11s 216ms/step - loss: 1.6607e-05 - val_loss: 1.5521e-05\n",
      "Epoch 16/100\n",
      "51/51 [==============================] - 11s 218ms/step - loss: 1.4535e-05 - val_loss: 1.3221e-05\n",
      "Epoch 17/100\n",
      "51/51 [==============================] - 11s 210ms/step - loss: 1.3029e-05 - val_loss: 1.2832e-05\n",
      "Epoch 18/100\n",
      "51/51 [==============================] - 11s 209ms/step - loss: 1.1632e-05 - val_loss: 1.2359e-05\n",
      "Epoch 19/100\n",
      "51/51 [==============================] - 11s 217ms/step - loss: 1.0690e-05 - val_loss: 1.0276e-05\n",
      "Epoch 20/100\n",
      "51/51 [==============================] - 11s 211ms/step - loss: 9.8092e-06 - val_loss: 9.9210e-06\n",
      "Epoch 21/100\n",
      "51/51 [==============================] - 11s 214ms/step - loss: 8.9617e-06 - val_loss: 9.4390e-06\n",
      "Epoch 22/100\n",
      "51/51 [==============================] - 11s 213ms/step - loss: 8.4325e-06 - val_loss: 7.9482e-06\n",
      "Epoch 23/100\n",
      "51/51 [==============================] - 11s 219ms/step - loss: 7.8597e-06 - val_loss: 7.8372e-06\n",
      "Epoch 24/100\n",
      "51/51 [==============================] - 11s 221ms/step - loss: 7.4616e-06 - val_loss: 7.7056e-06\n",
      "Epoch 25/100\n",
      "51/51 [==============================] - 11s 216ms/step - loss: 7.0286e-06 - val_loss: 6.9619e-06\n",
      "Epoch 26/100\n",
      "51/51 [==============================] - 11s 215ms/step - loss: 6.7582e-06 - val_loss: 6.0747e-06\n",
      "Epoch 27/100\n",
      "51/51 [==============================] - 11s 216ms/step - loss: 6.5001e-06 - val_loss: 5.8759e-06\n",
      "Epoch 28/100\n",
      "51/51 [==============================] - 11s 212ms/step - loss: 6.0518e-06 - val_loss: 5.6800e-06\n",
      "Epoch 29/100\n",
      "51/51 [==============================] - 11s 219ms/step - loss: 5.9034e-06 - val_loss: 5.6579e-06\n",
      "Epoch 30/100\n",
      "51/51 [==============================] - 11s 216ms/step - loss: 5.7096e-06 - val_loss: 6.0195e-06\n",
      "Epoch 31/100\n",
      "51/51 [==============================] - 11s 213ms/step - loss: 5.4265e-06 - val_loss: 4.9384e-06\n",
      "Epoch 32/100\n",
      "51/51 [==============================] - 11s 211ms/step - loss: 5.2807e-06 - val_loss: 5.1364e-06\n",
      "Epoch 33/100\n",
      "51/51 [==============================] - 11s 214ms/step - loss: 5.0274e-06 - val_loss: 4.7250e-06\n",
      "Epoch 34/100\n",
      "51/51 [==============================] - 11s 217ms/step - loss: 4.9059e-06 - val_loss: 5.0024e-06\n",
      "Epoch 35/100\n",
      "51/51 [==============================] - 11s 209ms/step - loss: 4.7267e-06 - val_loss: 5.5123e-06\n",
      "Epoch 36/100\n",
      "51/51 [==============================] - 11s 216ms/step - loss: 4.7710e-06 - val_loss: 4.2369e-06\n",
      "Epoch 37/100\n",
      "51/51 [==============================] - 11s 216ms/step - loss: 4.5068e-06 - val_loss: 4.6969e-06\n",
      "Epoch 38/100\n",
      "51/51 [==============================] - 11s 213ms/step - loss: 4.4918e-06 - val_loss: 4.3514e-06\n",
      "Epoch 39/100\n",
      "51/51 [==============================] - 11s 217ms/step - loss: 4.2662e-06 - val_loss: 4.3602e-06\n",
      "Epoch 00039: early stopping\n",
      "INFO:tensorflow:Assets written to: ./log_dir/SAN-2/autoencoder-2000/assets\n"
     ]
    },
    {
     "name": "stderr",
     "output_type": "stream",
     "text": [
      "Trained model saved at: ./log_dir/SAN-2/autoencoder-2000\n",
      "Trained model saved at: ./log_dir/SAN-2/autoencoder-2000\n",
      "Training losss for layer 0: 4.2964029489667155e-06 \n",
      "Training losss for layer 0: 4.2964029489667155e-06 \n",
      "Testing loss for layer 0: 4.309176347305765e-06 \n",
      "Testing loss for layer 0: 4.309176347305765e-06 \n"
     ]
    },
    {
     "name": "stdout",
     "output_type": "stream",
     "text": [
      "INFO:tensorflow:Assets written to: ./log_dir/SAN-2/encoders/model_0_2000/assets\n"
     ]
    },
    {
     "name": "stderr",
     "output_type": "stream",
     "text": [
      "Training layer 1 with 1000 hidden nodes..\n",
      "Training layer 1 with 1000 hidden nodes..\n"
     ]
    },
    {
     "name": "stdout",
     "output_type": "stream",
     "text": [
      "Epoch 1/100\n",
      "51/51 [==============================] - 2s 45ms/step - loss: 0.0576 - val_loss: 0.0042\n",
      "Epoch 2/100\n",
      "51/51 [==============================] - 2s 40ms/step - loss: 0.0150 - val_loss: 0.0062\n",
      "Epoch 3/100\n",
      "51/51 [==============================] - 2s 42ms/step - loss: 0.0064 - val_loss: 0.0036\n",
      "Epoch 4/100\n",
      "51/51 [==============================] - 2s 42ms/step - loss: 0.0022 - val_loss: 5.5961e-04\n",
      "Epoch 5/100\n",
      "51/51 [==============================] - 2s 41ms/step - loss: 0.0011 - val_loss: 0.0012\n",
      "Epoch 6/100\n",
      "51/51 [==============================] - 2s 43ms/step - loss: 6.1240e-04 - val_loss: 4.3198e-04\n",
      "Epoch 7/100\n",
      "51/51 [==============================] - 2s 47ms/step - loss: 3.7000e-04 - val_loss: 3.7025e-04\n",
      "Epoch 8/100\n",
      "51/51 [==============================] - 2s 45ms/step - loss: 2.4911e-04 - val_loss: 1.6856e-04\n",
      "Epoch 9/100\n",
      "51/51 [==============================] - 2s 45ms/step - loss: 1.7416e-04 - val_loss: 1.5199e-04\n",
      "Epoch 10/100\n",
      "51/51 [==============================] - 2s 43ms/step - loss: 1.3024e-04 - val_loss: 1.1968e-04\n",
      "Epoch 11/100\n",
      "51/51 [==============================] - 2s 44ms/step - loss: 9.9104e-05 - val_loss: 8.1373e-05\n",
      "Epoch 12/100\n",
      "51/51 [==============================] - 2s 42ms/step - loss: 7.7169e-05 - val_loss: 8.3086e-05\n",
      "Epoch 13/100\n",
      "51/51 [==============================] - 2s 42ms/step - loss: 6.3035e-05 - val_loss: 5.3317e-05\n",
      "Epoch 14/100\n",
      "51/51 [==============================] - 2s 45ms/step - loss: 5.0862e-05 - val_loss: 5.1785e-05\n",
      "Epoch 15/100\n",
      "51/51 [==============================] - 2s 40ms/step - loss: 4.3524e-05 - val_loss: 3.5544e-05\n",
      "Epoch 16/100\n",
      "51/51 [==============================] - 2s 44ms/step - loss: 3.6844e-05 - val_loss: 3.4362e-05\n",
      "Epoch 17/100\n",
      "51/51 [==============================] - 2s 44ms/step - loss: 3.0089e-05 - val_loss: 2.8258e-05\n",
      "Epoch 18/100\n",
      "51/51 [==============================] - 2s 41ms/step - loss: 2.7002e-05 - val_loss: 2.7783e-05\n",
      "Epoch 19/100\n",
      "51/51 [==============================] - 2s 40ms/step - loss: 2.3547e-05 - val_loss: 2.1182e-05\n",
      "Epoch 20/100\n",
      "51/51 [==============================] - 2s 45ms/step - loss: 2.0720e-05 - val_loss: 1.9566e-05\n",
      "Epoch 21/100\n",
      "51/51 [==============================] - 2s 40ms/step - loss: 1.8161e-05 - val_loss: 1.6783e-05\n",
      "Epoch 22/100\n",
      "51/51 [==============================] - 2s 44ms/step - loss: 1.6374e-05 - val_loss: 1.3202e-05\n",
      "Epoch 23/100\n",
      "51/51 [==============================] - 2s 43ms/step - loss: 1.5059e-05 - val_loss: 1.6842e-05\n",
      "Epoch 24/100\n",
      "51/51 [==============================] - 2s 43ms/step - loss: 1.3631e-05 - val_loss: 1.3591e-05\n",
      "Epoch 25/100\n",
      "51/51 [==============================] - 2s 43ms/step - loss: 1.2473e-05 - val_loss: 1.3468e-05\n",
      "Epoch 00025: early stopping\n",
      "INFO:tensorflow:Assets written to: ./log_dir/SAN-2/autoencoder-1000/assets\n"
     ]
    },
    {
     "name": "stderr",
     "output_type": "stream",
     "text": [
      "Trained model saved at: ./log_dir/SAN-2/autoencoder-1000\n",
      "Trained model saved at: ./log_dir/SAN-2/autoencoder-1000\n",
      "Training losss for layer 1: 1.335870456387056e-05 \n",
      "Training losss for layer 1: 1.335870456387056e-05 \n",
      "Testing loss for layer 1: 1.3380589734879322e-05 \n",
      "Testing loss for layer 1: 1.3380589734879322e-05 \n"
     ]
    },
    {
     "name": "stdout",
     "output_type": "stream",
     "text": [
      "INFO:tensorflow:Assets written to: ./log_dir/SAN-2/encoders/model_1_1000/assets\n"
     ]
    },
    {
     "name": "stderr",
     "output_type": "stream",
     "text": [
      "Training layer 2 with 500 hidden nodes..\n",
      "Training layer 2 with 500 hidden nodes..\n"
     ]
    },
    {
     "name": "stdout",
     "output_type": "stream",
     "text": [
      "Epoch 1/100\n",
      "51/51 [==============================] - 1s 28ms/step - loss: 0.0171 - val_loss: 0.0106\n",
      "Epoch 2/100\n",
      "51/51 [==============================] - 1s 18ms/step - loss: 0.0095 - val_loss: 0.0068\n",
      "Epoch 3/100\n",
      "51/51 [==============================] - 1s 19ms/step - loss: 0.0062 - val_loss: 0.0052\n",
      "Epoch 4/100\n",
      "51/51 [==============================] - 1s 19ms/step - loss: 0.0042 - val_loss: 0.0036\n",
      "Epoch 5/100\n",
      "51/51 [==============================] - 1s 19ms/step - loss: 0.0029 - val_loss: 0.0023\n",
      "Epoch 6/100\n",
      "51/51 [==============================] - 1s 19ms/step - loss: 0.0020 - val_loss: 0.0012\n",
      "Epoch 7/100\n",
      "51/51 [==============================] - 1s 20ms/step - loss: 0.0014 - val_loss: 0.0010\n",
      "Epoch 8/100\n",
      "51/51 [==============================] - 1s 20ms/step - loss: 9.6916e-04 - val_loss: 7.9721e-04\n",
      "Epoch 9/100\n",
      "51/51 [==============================] - 1s 19ms/step - loss: 6.9494e-04 - val_loss: 5.9070e-04\n",
      "Epoch 10/100\n",
      "51/51 [==============================] - 1s 22ms/step - loss: 5.1584e-04 - val_loss: 4.9565e-04\n",
      "Epoch 11/100\n",
      "51/51 [==============================] - 1s 20ms/step - loss: 3.9769e-04 - val_loss: 3.3388e-04\n",
      "Epoch 12/100\n",
      "51/51 [==============================] - 1s 20ms/step - loss: 3.1277e-04 - val_loss: 3.4302e-04\n",
      "Epoch 13/100\n",
      "51/51 [==============================] - 1s 18ms/step - loss: 2.4176e-04 - val_loss: 1.9518e-04\n",
      "Epoch 14/100\n",
      "51/51 [==============================] - 1s 19ms/step - loss: 2.0134e-04 - val_loss: 1.2754e-04\n",
      "Epoch 15/100\n",
      "51/51 [==============================] - 1s 18ms/step - loss: 1.6293e-04 - val_loss: 2.4465e-04\n",
      "Epoch 16/100\n",
      "51/51 [==============================] - 1s 21ms/step - loss: 1.3450e-04 - val_loss: 9.5698e-05\n",
      "Epoch 17/100\n",
      "51/51 [==============================] - 1s 21ms/step - loss: 1.1145e-04 - val_loss: 1.4405e-04\n",
      "Epoch 18/100\n",
      "51/51 [==============================] - 1s 19ms/step - loss: 9.9272e-05 - val_loss: 5.5669e-05\n",
      "Epoch 19/100\n",
      "51/51 [==============================] - 1s 18ms/step - loss: 8.4146e-05 - val_loss: 3.8406e-05\n",
      "Epoch 20/100\n",
      "51/51 [==============================] - 1s 19ms/step - loss: 6.9243e-05 - val_loss: 5.6564e-05\n",
      "Epoch 21/100\n",
      "51/51 [==============================] - 1s 21ms/step - loss: 6.4479e-05 - val_loss: 5.4953e-05\n",
      "Epoch 22/100\n",
      "51/51 [==============================] - 1s 24ms/step - loss: 5.2357e-05 - val_loss: 5.0140e-05\n",
      "Epoch 00022: early stopping\n",
      "INFO:tensorflow:Assets written to: ./log_dir/SAN-2/autoencoder-500/assets\n"
     ]
    },
    {
     "name": "stderr",
     "output_type": "stream",
     "text": [
      "Trained model saved at: ./log_dir/SAN-2/autoencoder-500\n",
      "Trained model saved at: ./log_dir/SAN-2/autoencoder-500\n",
      "Training losss for layer 2: 4.848092430620454e-05 \n",
      "Training losss for layer 2: 4.848092430620454e-05 \n",
      "Testing loss for layer 2: 4.881304994341917e-05 \n",
      "Testing loss for layer 2: 4.881304994341917e-05 \n"
     ]
    },
    {
     "name": "stdout",
     "output_type": "stream",
     "text": [
      "INFO:tensorflow:Assets written to: ./log_dir/SAN-2/encoders/model_2_500/assets\n"
     ]
    }
   ],
   "source": [
    "logger.info(\"Starting training for {} encoder layers.\".format(len(config[\"N_NODES\"])))\n",
    "\n",
    "x_train_out, x_test_out = x_train, x_test\n",
    "for idx, num_hidden in enumerate(config[\"N_NODES\"]):\n",
    "    logger.info(\"Training layer {} with {} hidden nodes..\".format(idx, num_hidden))\n",
    "    encoder = Autoencoder(x_train_out.shape[1], num_hidden, os.environ['EXP_DIR'])\n",
    "    \n",
    "    recon_mse = encoder.fit(x_train_out, x_test_out, batch_size=config[\"BATCH_SIZE\"], \n",
    "        num_epochs=config[\"EPOCHS\"], verbose=config[\"VERBOSITY\"], patience=config[\"PATIENCE\"])\n",
    "    \n",
    "    x_train_out = encoder.encoder_model.predict(x_train_out)\n",
    "    x_test_out = encoder.encoder_model.predict(x_test_out)\n",
    "    logger.info(\"Training losss for layer {}: {} \".format(idx, recon_mse[0]))\n",
    "    logger.info(\"Testing loss for layer {}: {} \".format(idx, recon_mse[1]))\n",
    "    \n",
    "    model_path = os.path.join(os.environ['EXP_DIR'], \"encoders\", \"model_{}_{}\".format(idx,num_hidden))\n",
    "    encoder.encoder_model.save(model_path)\n",
    "    neptune.log_artifact(model_path)\n",
    "    neptune.set_property('encoder{}'.format(idx), model_path)\n",
    "\n",
    "\n"
   ]
  },
  {
   "cell_type": "code",
   "execution_count": 18,
   "metadata": {
    "execution": {
     "iopub.execute_input": "2020-08-07T06:17:28.066397Z",
     "iopub.status.busy": "2020-08-07T06:17:28.065978Z",
     "iopub.status.idle": "2020-08-07T06:17:33.000004Z",
     "shell.execute_reply": "2020-08-07T06:17:32.998925Z",
     "shell.execute_reply.started": "2020-08-07T06:17:28.066357Z"
    }
   },
   "outputs": [],
   "source": [
    "neptune.stop()"
   ]
  }
 ],
 "metadata": {
  "environment": {
   "name": "tf2-2-2-gpu.2-2.m50",
   "type": "gcloud",
   "uri": "gcr.io/deeplearning-platform-release/tf2-2-2-gpu.2-2:m50"
  },
  "kernelspec": {
   "display_name": "Python 3",
   "language": "python",
   "name": "python3"
  },
  "language_info": {
   "codemirror_mode": {
    "name": "ipython",
    "version": 3
   },
   "file_extension": ".py",
   "mimetype": "text/x-python",
   "name": "python",
   "nbconvert_exporter": "python",
   "pygments_lexer": "ipython3",
   "version": "3.7.6"
  },
  "neptune": {
   "notebookId": "ecd86e96-4da7-44e3-9a17-43da2dfcae35"
  },
  "record_timing": true,
  "widgets": {
   "application/vnd.jupyter.widget-state+json": {
    "state": {},
    "version_major": 2,
    "version_minor": 0
   }
  }
 },
 "nbformat": 4,
 "nbformat_minor": 4
}
