{
 "cells": [
  {
   "cell_type": "markdown",
   "metadata": {},
   "source": [
    "# Unsupervised training of the encoder layers"
   ]
  },
  {
   "cell_type": "markdown",
   "metadata": {},
   "source": [
    "## Initial setup\n",
    "### Imports"
   ]
  },
  {
   "cell_type": "code",
   "execution_count": 1,
   "metadata": {
    "execution": {
     "iopub.execute_input": "2020-08-06T00:34:52.476288Z",
     "iopub.status.busy": "2020-08-06T00:34:52.475775Z",
     "iopub.status.idle": "2020-08-06T00:34:54.655908Z",
     "shell.execute_reply": "2020-08-06T00:34:54.655006Z",
     "shell.execute_reply.started": "2020-08-06T00:34:52.476247Z"
    }
   },
   "outputs": [],
   "source": [
    "import tensorflow as tf\n",
    "import pandas as pd\n",
    "import numpy as np\n",
    "from datetime import datetime\n",
    "from models import Autoencoder, EncoderStack\n",
    "from tensorflow.keras.layers.experimental.preprocessing import Normalization\n",
    "from tensorflow.keras.utils import to_categorical\n",
    "from sklearn.model_selection import ShuffleSplit\n",
    "from sklearn.preprocessing import normalize\n",
    "import dataset\n",
    "import neptune\n",
    "import os"
   ]
  },
  {
   "cell_type": "markdown",
   "metadata": {},
   "source": [
    "### Set experiment configuration"
   ]
  },
  {
   "cell_type": "code",
   "execution_count": 2,
   "metadata": {
    "execution": {
     "iopub.execute_input": "2020-08-06T00:34:54.657559Z",
     "iopub.status.busy": "2020-08-06T00:34:54.657280Z",
     "iopub.status.idle": "2020-08-06T00:34:54.662636Z",
     "shell.execute_reply": "2020-08-06T00:34:54.661724Z",
     "shell.execute_reply.started": "2020-08-06T00:34:54.657533Z"
    }
   },
   "outputs": [],
   "source": [
    "config = {\n",
    "    \"N_NODES\": [2000, 1000, 500],\n",
    "    \"DROPOUT\": [0.1],\n",
    "    \"BATCH_SIZE\": 15,\n",
    "    \"EPOCHS\": 30,\n",
    "    \"TEST_RATIO\": 0.30,\n",
    "    \"DATA_BUCKET\": \"sdae-geo\",\n",
    "    \"DATA_OBJECT\": \"GEO_data_batch_corr_final.csv\",\n",
    "    \"DATA_LABELS\": \" GBM_class.csv\",\n",
    "    \"VERBOSITY\": 2,\n",
    "    \"LOG_DIR\": \"./log_dir\",\n",
    "    \"PATIENCE\":3\n",
    "}\n"
   ]
  },
  {
   "cell_type": "markdown",
   "metadata": {},
   "source": [
    "## Initialize Netptune and Tensorboard logging"
   ]
  },
  {
   "cell_type": "code",
   "execution_count": 3,
   "metadata": {
    "execution": {
     "iopub.execute_input": "2020-08-06T00:34:54.664660Z",
     "iopub.status.busy": "2020-08-06T00:34:54.664287Z",
     "iopub.status.idle": "2020-08-06T00:35:22.189657Z",
     "shell.execute_reply": "2020-08-06T00:35:22.188774Z",
     "shell.execute_reply.started": "2020-08-06T00:34:54.664623Z"
    }
   },
   "outputs": [
    {
     "name": "stdout",
     "output_type": "stream",
     "text": [
      "Loading ./log_dir/20200805-234845/log/validation/events.out.tfevents.1596671334.tensorflow-2-2-20200804-235820.7235.31463.v2...\n",
      "20200805-234845/log/validation/events.out.tfevents.1596671334.tensorflow-2-2-20200804-235820.7235.31463.v2 is already synced\n",
      "Loading ./log_dir/20200805-234845/log/train/events.out.tfevents.1596671325.tensorflow-2-2-20200804-235820.7235.27435.v2...\n",
      "20200805-234845/log/train/events.out.tfevents.1596671325.tensorflow-2-2-20200804-235820.7235.27435.v2 is already synced\n",
      "Loading ./log_dir/20200805-234845/log/train/events.out.tfevents.1596671326.tensorflow-2-2-20200804-235820.profile-empty...\n",
      "20200805-234845/log/train/events.out.tfevents.1596671326.tensorflow-2-2-20200804-235820.profile-empty is already synced\n",
      "Loading ./log_dir/20200805-234845/log/train/plugins/profile/2020_08_05_23_48_46/tensorflow-2-2-20200804-235820.overview_page.pb...\n",
      "20200805-234845/log/train/plugins/profile/2020_08_05_23_48_46/tensorflow-2-2-20200804-235820.overview_page.pb is already synced\n",
      "Loading ./log_dir/20200805-234845/log/train/plugins/profile/2020_08_05_23_48_46/tensorflow-2-2-20200804-235820.input_pipeline.pb...\n",
      "20200805-234845/log/train/plugins/profile/2020_08_05_23_48_46/tensorflow-2-2-20200804-235820.input_pipeline.pb is already synced\n",
      "Loading ./log_dir/20200805-234845/log/train/plugins/profile/2020_08_05_23_48_46/tensorflow-2-2-20200804-235820.trace.json.gz...\n",
      "20200805-234845/log/train/plugins/profile/2020_08_05_23_48_46/tensorflow-2-2-20200804-235820.trace.json.gz is already synced\n",
      "Loading ./log_dir/20200805-234845/log/train/plugins/profile/2020_08_05_23_48_46/tensorflow-2-2-20200804-235820.kernel_stats.pb...\n",
      "20200805-234845/log/train/plugins/profile/2020_08_05_23_48_46/tensorflow-2-2-20200804-235820.kernel_stats.pb is already synced\n",
      "Loading ./log_dir/20200805-234845/log/train/plugins/profile/2020_08_05_23_48_46/tensorflow-2-2-20200804-235820.tensorflow_stats.pb...\n",
      "20200805-234845/log/train/plugins/profile/2020_08_05_23_48_46/tensorflow-2-2-20200804-235820.tensorflow_stats.pb is already synced\n",
      "Loading ./log_dir/20200805-234845/autoencoder-1000/saved_model.pb...\n",
      "20200805-234845/autoencoder-1000/saved_model.pb is already synced\n",
      "Loading ./log_dir/20200805-234845/autoencoder-1000/variables/variables.data-00000-of-00001...\n",
      "20200805-234845/autoencoder-1000/variables/variables.data-00000-of-00001 is already synced\n",
      "Loading ./log_dir/20200805-234845/autoencoder-1000/variables/variables.index...\n",
      "20200805-234845/autoencoder-1000/variables/variables.index is already synced\n",
      "Loading ./log_dir/20200805-234922/log/validation/events.out.tfevents.1596671367.tensorflow-2-2-20200804-235820.7235.47712.v2...\n",
      "20200805-234922/log/validation/events.out.tfevents.1596671367.tensorflow-2-2-20200804-235820.7235.47712.v2 is already synced\n",
      "Loading ./log_dir/20200805-234922/log/train/events.out.tfevents.1596671363.tensorflow-2-2-20200804-235820.profile-empty...\n",
      "20200805-234922/log/train/events.out.tfevents.1596671363.tensorflow-2-2-20200804-235820.profile-empty is already synced\n",
      "Loading ./log_dir/20200805-234922/log/train/events.out.tfevents.1596671362.tensorflow-2-2-20200804-235820.7235.43684.v2...\n",
      "20200805-234922/log/train/events.out.tfevents.1596671362.tensorflow-2-2-20200804-235820.7235.43684.v2 is already synced\n",
      "Loading ./log_dir/20200805-234922/log/train/plugins/profile/2020_08_05_23_49_23/tensorflow-2-2-20200804-235820.overview_page.pb...\n",
      "20200805-234922/log/train/plugins/profile/2020_08_05_23_49_23/tensorflow-2-2-20200804-235820.overview_page.pb is already synced\n",
      "Loading ./log_dir/20200805-234922/log/train/plugins/profile/2020_08_05_23_49_23/tensorflow-2-2-20200804-235820.input_pipeline.pb...\n",
      "20200805-234922/log/train/plugins/profile/2020_08_05_23_49_23/tensorflow-2-2-20200804-235820.input_pipeline.pb is already synced\n",
      "Loading ./log_dir/20200805-234922/log/train/plugins/profile/2020_08_05_23_49_23/tensorflow-2-2-20200804-235820.trace.json.gz...\n",
      "20200805-234922/log/train/plugins/profile/2020_08_05_23_49_23/tensorflow-2-2-20200804-235820.trace.json.gz is already synced\n",
      "Loading ./log_dir/20200805-234922/log/train/plugins/profile/2020_08_05_23_49_23/tensorflow-2-2-20200804-235820.kernel_stats.pb...\n",
      "20200805-234922/log/train/plugins/profile/2020_08_05_23_49_23/tensorflow-2-2-20200804-235820.kernel_stats.pb is already synced\n",
      "Loading ./log_dir/20200805-234922/log/train/plugins/profile/2020_08_05_23_49_23/tensorflow-2-2-20200804-235820.tensorflow_stats.pb...\n",
      "20200805-234922/log/train/plugins/profile/2020_08_05_23_49_23/tensorflow-2-2-20200804-235820.tensorflow_stats.pb is already synced\n",
      "Loading ./log_dir/20200805-234922/autoencoder-500/saved_model.pb...\n",
      "20200805-234922/autoencoder-500/saved_model.pb is already synced\n",
      "Loading ./log_dir/20200805-234922/autoencoder-500/variables/variables.data-00000-of-00001...\n",
      "20200805-234922/autoencoder-500/variables/variables.data-00000-of-00001 is already synced\n",
      "Loading ./log_dir/20200805-234922/autoencoder-500/variables/variables.index...\n",
      "20200805-234922/autoencoder-500/variables/variables.index is already synced\n",
      "Loading ./log_dir/20200805-235613/log/validation/events.out.tfevents.1596671775.tensorflow-2-2-20200804-235820.7235.64020.v2...\n",
      "https://ui.neptune.ai/jgeof/sdae/e/SDAE-92\n",
      "20200805-235613/log/validation/events.out.tfevents.1596671775.tensorflow-2-2-20200804-235820.7235.64020.v2 was saved as SDAE-92\n",
      "Loading ./log_dir/20200805-235613/log/train/events.out.tfevents.1596671773.tensorflow-2-2-20200804-235820.7235.62900.v2...\n",
      "https://ui.neptune.ai/jgeof/sdae/e/SDAE-93\n",
      "20200805-235613/log/train/events.out.tfevents.1596671773.tensorflow-2-2-20200804-235820.7235.62900.v2 was saved as SDAE-93\n",
      "Loading ./log_dir/20200805-235613/log/train/events.out.tfevents.1596671773.tensorflow-2-2-20200804-235820.profile-empty...\n",
      "https://ui.neptune.ai/jgeof/sdae/e/SDAE-94\n",
      "20200805-235613/log/train/events.out.tfevents.1596671773.tensorflow-2-2-20200804-235820.profile-empty was saved as SDAE-94\n",
      "Loading ./log_dir/20200805-235613/log/train/plugins/profile/2020_08_05_23_56_13/tensorflow-2-2-20200804-235820.overview_page.pb...\n",
      "https://ui.neptune.ai/jgeof/sdae/e/SDAE-95\n",
      "20200805-235613/log/train/plugins/profile/2020_08_05_23_56_13/tensorflow-2-2-20200804-235820.overview_page.pb was saved as SDAE-95\n",
      "Loading ./log_dir/20200805-235613/log/train/plugins/profile/2020_08_05_23_56_13/tensorflow-2-2-20200804-235820.input_pipeline.pb...\n",
      "https://ui.neptune.ai/jgeof/sdae/e/SDAE-96\n",
      "20200805-235613/log/train/plugins/profile/2020_08_05_23_56_13/tensorflow-2-2-20200804-235820.input_pipeline.pb was saved as SDAE-96\n",
      "Loading ./log_dir/20200805-235613/log/train/plugins/profile/2020_08_05_23_56_13/tensorflow-2-2-20200804-235820.trace.json.gz...\n",
      "https://ui.neptune.ai/jgeof/sdae/e/SDAE-97\n",
      "20200805-235613/log/train/plugins/profile/2020_08_05_23_56_13/tensorflow-2-2-20200804-235820.trace.json.gz was saved as SDAE-97\n",
      "Loading ./log_dir/20200805-235613/log/train/plugins/profile/2020_08_05_23_56_13/tensorflow-2-2-20200804-235820.kernel_stats.pb...\n",
      "https://ui.neptune.ai/jgeof/sdae/e/SDAE-98\n",
      "20200805-235613/log/train/plugins/profile/2020_08_05_23_56_13/tensorflow-2-2-20200804-235820.kernel_stats.pb was saved as SDAE-98\n",
      "Loading ./log_dir/20200805-235613/log/train/plugins/profile/2020_08_05_23_56_13/tensorflow-2-2-20200804-235820.tensorflow_stats.pb...\n",
      "https://ui.neptune.ai/jgeof/sdae/e/SDAE-99\n",
      "20200805-235613/log/train/plugins/profile/2020_08_05_23_56_13/tensorflow-2-2-20200804-235820.tensorflow_stats.pb was saved as SDAE-99\n",
      "Loading ./log_dir/20200805-235613/autoencoder-1000/saved_model.pb...\n",
      "https://ui.neptune.ai/jgeof/sdae/e/SDAE-100\n",
      "20200805-235613/autoencoder-1000/saved_model.pb was saved as SDAE-100\n",
      "Loading ./log_dir/20200805-235613/autoencoder-1000/variables/variables.data-00000-of-00001...\n",
      "https://ui.neptune.ai/jgeof/sdae/e/SDAE-101\n",
      "20200805-235613/autoencoder-1000/variables/variables.data-00000-of-00001 was saved as SDAE-101\n",
      "Loading ./log_dir/20200805-235613/autoencoder-1000/variables/variables.index...\n",
      "https://ui.neptune.ai/jgeof/sdae/e/SDAE-102\n",
      "20200805-235613/autoencoder-1000/variables/variables.index was saved as SDAE-102\n",
      "Loading ./log_dir/20200805-235618/log/validation/events.out.tfevents.1596671780.tensorflow-2-2-20200804-235820.7235.66980.v2...\n",
      "https://ui.neptune.ai/jgeof/sdae/e/SDAE-103\n",
      "20200805-235618/log/validation/events.out.tfevents.1596671780.tensorflow-2-2-20200804-235820.7235.66980.v2 was saved as SDAE-103\n",
      "Loading ./log_dir/20200805-235618/log/train/events.out.tfevents.1596671778.tensorflow-2-2-20200804-235820.7235.65860.v2...\n",
      "https://ui.neptune.ai/jgeof/sdae/e/SDAE-104\n",
      "20200805-235618/log/train/events.out.tfevents.1596671778.tensorflow-2-2-20200804-235820.7235.65860.v2 was saved as SDAE-104\n",
      "Loading ./log_dir/20200805-235618/log/train/events.out.tfevents.1596671779.tensorflow-2-2-20200804-235820.profile-empty...\n",
      "https://ui.neptune.ai/jgeof/sdae/e/SDAE-105\n",
      "20200805-235618/log/train/events.out.tfevents.1596671779.tensorflow-2-2-20200804-235820.profile-empty was saved as SDAE-105\n",
      "Loading ./log_dir/20200805-235618/log/train/plugins/profile/2020_08_05_23_56_19/tensorflow-2-2-20200804-235820.overview_page.pb...\n",
      "https://ui.neptune.ai/jgeof/sdae/e/SDAE-106\n",
      "20200805-235618/log/train/plugins/profile/2020_08_05_23_56_19/tensorflow-2-2-20200804-235820.overview_page.pb was saved as SDAE-106\n",
      "Loading ./log_dir/20200805-235618/log/train/plugins/profile/2020_08_05_23_56_19/tensorflow-2-2-20200804-235820.input_pipeline.pb...\n",
      "https://ui.neptune.ai/jgeof/sdae/e/SDAE-107\n",
      "20200805-235618/log/train/plugins/profile/2020_08_05_23_56_19/tensorflow-2-2-20200804-235820.input_pipeline.pb was saved as SDAE-107\n",
      "Loading ./log_dir/20200805-235618/log/train/plugins/profile/2020_08_05_23_56_19/tensorflow-2-2-20200804-235820.trace.json.gz...\n",
      "https://ui.neptune.ai/jgeof/sdae/e/SDAE-108\n",
      "20200805-235618/log/train/plugins/profile/2020_08_05_23_56_19/tensorflow-2-2-20200804-235820.trace.json.gz was saved as SDAE-108\n",
      "Loading ./log_dir/20200805-235618/log/train/plugins/profile/2020_08_05_23_56_19/tensorflow-2-2-20200804-235820.kernel_stats.pb...\n",
      "https://ui.neptune.ai/jgeof/sdae/e/SDAE-109\n",
      "20200805-235618/log/train/plugins/profile/2020_08_05_23_56_19/tensorflow-2-2-20200804-235820.kernel_stats.pb was saved as SDAE-109\n",
      "Loading ./log_dir/20200805-235618/log/train/plugins/profile/2020_08_05_23_56_19/tensorflow-2-2-20200804-235820.tensorflow_stats.pb...\n",
      "https://ui.neptune.ai/jgeof/sdae/e/SDAE-110\n",
      "20200805-235618/log/train/plugins/profile/2020_08_05_23_56_19/tensorflow-2-2-20200804-235820.tensorflow_stats.pb was saved as SDAE-110\n",
      "Loading ./log_dir/20200805-235618/autoencoder-500/saved_model.pb...\n",
      "https://ui.neptune.ai/jgeof/sdae/e/SDAE-111\n",
      "20200805-235618/autoencoder-500/saved_model.pb was saved as SDAE-111\n",
      "Loading ./log_dir/20200805-235618/autoencoder-500/variables/variables.data-00000-of-00001...\n",
      "https://ui.neptune.ai/jgeof/sdae/e/SDAE-112\n",
      "20200805-235618/autoencoder-500/variables/variables.data-00000-of-00001 was saved as SDAE-112\n",
      "Loading ./log_dir/20200805-235618/autoencoder-500/variables/variables.index...\n",
      "^C\n",
      "\n",
      "Aborted!\n"
     ]
    }
   ],
   "source": [
    "os.environ['NEPTUNE_API_TOKEN']=\"eyJhcGlfYWRkcmVzcyI6Imh0dHBzOi8vdWkubmVwdHVuZS5haSIsImFwaV91cmwiOiJodHRwczovL3VpLm5lcHR1bmUuYWkiLCJhcGlfa2V5IjoiYjNiYmZhYjEtNzc3ZS00Y2NhLWI5NTgtYWU0MmQyMWJhM2I0In0=\"\n",
    "os.environ['NEPTUNE_PROJECT']=\"jgeof/sdae\"\n",
    "os.environ['NEPTUNE_NOTEBOOK_ID']=\"ecd86e96-4da7-44e3-9a17-43da2dfcae35\"\n",
    "os.environ['NEPTUNE_NOTEBOOK_PATH']=\"constrained-SDAE/sdae.ipynb\"\n",
    "!neptune tensorboard ./log_dir --project ${NEPTUNE_PROJECT}\n",
    "%load_ext tensorboard"
   ]
  },
  {
   "cell_type": "markdown",
   "metadata": {},
   "source": [
    "### Init new Neptune experiment"
   ]
  },
  {
   "cell_type": "code",
   "execution_count": null,
   "metadata": {
    "execution": {
     "iopub.execute_input": "2020-08-06T00:35:22.191562Z",
     "iopub.status.busy": "2020-08-06T00:35:22.191245Z",
     "iopub.status.idle": "2020-08-05T23:55:46.663628Z",
     "shell.execute_reply": "2020-08-05T23:55:46.662746Z",
     "shell.execute_reply.started": "2020-08-05T23:55:44.521948Z"
    }
   },
   "outputs": [
    {
     "name": "stderr",
     "output_type": "stream",
     "text": [
      "NVMLError: NVML Shared Library Not Found - GPU usage metrics may not be reported.\n"
     ]
    }
   ],
   "source": [
    "neptune.init(os.environ['NEPTUNE_PROJECT'], api_token=os.environ['NEPTUNE_API_TOKEN'])\n",
    "experiment = neptune.create_experiment(name='configuration', params=config)\n",
    "config['EXP_DIR'] = os.path.join(config[\"LOG_DIR\"], experiment.id)"
   ]
  },
  {
   "cell_type": "markdown",
   "metadata": {},
   "source": [
    "### Start tensorboard server"
   ]
  },
  {
   "cell_type": "markdown",
   "metadata": {},
   "source": [
    "Start Tensorboard by running the following command in a terminal:\n",
    "\n",
    "```bash\n",
    "tensorboard --logdir ./log_dir --bind_all\n",
    "```\n",
    "\n",
    "**Tensorboard cannot server over HTTPS, use external HTTP url: http://34.77.45.86:6006/**"
   ]
  },
  {
   "cell_type": "markdown",
   "metadata": {},
   "source": [
    "# Load and preprocess the data"
   ]
  },
  {
   "cell_type": "markdown",
   "metadata": {},
   "source": [
    "## Load data from Google Storage"
   ]
  },
  {
   "cell_type": "code",
   "execution_count": null,
   "metadata": {
    "execution": {
     "iopub.execute_input": "2020-08-05T23:55:46.665264Z",
     "iopub.status.busy": "2020-08-05T23:55:46.664983Z",
     "iopub.status.idle": "2020-08-05T23:55:49.747456Z",
     "shell.execute_reply": "2020-08-05T23:55:49.746442Z",
     "shell.execute_reply.started": "2020-08-05T23:55:46.665226Z"
    }
   },
   "outputs": [],
   "source": [
    "dataframe = dataset.load_gs_data(config['DATA_BUCKET'], config['DATA_OBJECT'], config['EXP_DIR'])"
   ]
  },
  {
   "cell_type": "markdown",
   "metadata": {},
   "source": [
    "## Normalize data feature-wize"
   ]
  },
  {
   "cell_type": "code",
   "execution_count": null,
   "metadata": {
    "execution": {
     "iopub.execute_input": "2020-08-05T23:55:49.749064Z",
     "iopub.status.busy": "2020-08-05T23:55:49.748799Z",
     "iopub.status.idle": "2020-08-05T23:55:49.788253Z",
     "shell.execute_reply": "2020-08-05T23:55:49.787183Z",
     "shell.execute_reply.started": "2020-08-05T23:55:49.749038Z"
    }
   },
   "outputs": [],
   "source": [
    "data = dataframe.values\n",
    "data = normalize(data)"
   ]
  },
  {
   "cell_type": "markdown",
   "metadata": {},
   "source": [
    "## Split into training and testing sets"
   ]
  },
  {
   "cell_type": "code",
   "execution_count": null,
   "metadata": {
    "execution": {
     "iopub.execute_input": "2020-08-05T23:55:49.789608Z",
     "iopub.status.busy": "2020-08-05T23:55:49.789327Z",
     "iopub.status.idle": "2020-08-05T23:55:50.187355Z",
     "shell.execute_reply": "2020-08-05T23:55:50.186132Z",
     "shell.execute_reply.started": "2020-08-05T23:55:49.789568Z"
    }
   },
   "outputs": [],
   "source": [
    "rs = ShuffleSplit(n_splits=1, test_size=config['TEST_RATIO'], random_state=0)\n",
    "split_itterator = rs.split(data)\n",
    "i_train, i_test = next(split_itterator)\n",
    "train_path = os.path.join(config['LOG_DIR'], \"train_indices.npy\")\n",
    "test_path = os.path.join(config['LOG_DIR'], \"test_indices.npy\")\n",
    "np.save(train_path, i_train)\n",
    "np.save(test_path, i_test)\n",
    "neptune.log_artifact(train_path')\n",
    "neptune.log_artifact(test_path)\n",
    "\n",
    "x_train, x_test = data[i_train], data[i_test]\n",
    "\n",
    "print(\"{}% of samples for training: {} training, {} testing.\".format(int(config['TEST_RATIO']*100), len(i_train), len(i_test)))"
   ]
  },
  {
   "cell_type": "markdown",
   "metadata": {
    "execution": {
     "iopub.execute_input": "2020-07-27T03:12:17.561113Z",
     "iopub.status.busy": "2020-07-27T03:12:17.560466Z",
     "iopub.status.idle": "2020-07-27T03:12:17.565053Z",
     "shell.execute_reply": "2020-07-27T03:12:17.564431Z",
     "shell.execute_reply.started": "2020-07-27T03:12:17.561079Z"
    }
   },
   "source": [
    "# Train encoder layers"
   ]
  },
  {
   "cell_type": "code",
   "execution_count": null,
   "metadata": {
    "execution": {
     "iopub.execute_input": "2020-08-05T23:55:50.188932Z",
     "iopub.status.busy": "2020-08-05T23:55:50.188564Z",
     "iopub.status.idle": "2020-08-05T23:56:28.575357Z",
     "shell.execute_reply": "2020-08-05T23:56:28.574188Z",
     "shell.execute_reply.started": "2020-08-05T23:55:50.188900Z"
    }
   },
   "outputs": [],
   "source": [
    "encoder_models = []\n",
    "\n",
    "x_train_out, x_test_out = x_train, x_test\n",
    "for idx, num_hidden in enumerate(config[\"N_NODES\"]):\n",
    "    info = \"Training layer {} with {} hidden nodes..\\n\".format(idx, num_hidden)\n",
    "    neptune.log_text(info)\n",
    "    print(info)\n",
    "    encoder = Autoencoder(x_train_out.shape[1], num_hidden, config['EXP_DIR'])\n",
    "    \n",
    "    recon_mse = encoder.fit(x_train_out, x_test_out, batch_size=config[\"BATCH_SIZE\"], \n",
    "        num_epochs=config[\"EPOCHS\"], verbose=config[\"VERBOSITY\"], patience=config[\"PATIENCE\"])\n",
    "    \n",
    "    x_train_out = encoder.encoder_model.predict(x_train_out)\n",
    "    x_test_out = encoder.encoder_model.predict(x_test_out)\n",
    "    print(\"\\nTraining losss: \", recon_mse[0])\n",
    "    print(\"\\nTesting loss: \", recon_mse[1])\n",
    "    encoder_models.append(encoder)"
   ]
  }
 ],
 "metadata": {
  "environment": {
   "name": "tf2-2-2-gpu.2-2.m50",
   "type": "gcloud",
   "uri": "gcr.io/deeplearning-platform-release/tf2-2-2-gpu.2-2:m50"
  },
  "kernelspec": {
   "display_name": "Python 3",
   "language": "python",
   "name": "python3"
  },
  "language_info": {
   "codemirror_mode": {
    "name": "ipython",
    "version": 3
   },
   "file_extension": ".py",
   "mimetype": "text/x-python",
   "name": "python",
   "nbconvert_exporter": "python",
   "pygments_lexer": "ipython3",
   "version": "3.7.6"
  },
  "neptune": {
   "notebookId": "ecd86e96-4da7-44e3-9a17-43da2dfcae35"
  },
  "record_timing": true,
  "widgets": {
   "application/vnd.jupyter.widget-state+json": {
    "state": {},
    "version_major": 2,
    "version_minor": 0
   }
  }
 },
 "nbformat": 4,
 "nbformat_minor": 4
}
