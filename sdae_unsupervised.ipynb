{
 "cells": [
  {
   "cell_type": "markdown",
   "metadata": {},
   "source": [
    "# Unsupervised training of the encoder layers"
   ]
  },
  {
   "cell_type": "markdown",
   "metadata": {},
   "source": [
    "## Initial setup\n",
    "### Imports"
   ]
  },
  {
   "cell_type": "code",
   "execution_count": 1,
   "metadata": {
    "execution": {
     "iopub.execute_input": "2020-08-07T12:55:31.785403Z",
     "iopub.status.busy": "2020-08-07T12:55:31.785013Z",
     "iopub.status.idle": "2020-08-07T12:55:35.280541Z",
     "shell.execute_reply": "2020-08-07T12:55:35.279253Z",
     "shell.execute_reply.started": "2020-08-07T12:55:31.785372Z"
    }
   },
   "outputs": [
    {
     "name": "stdout",
     "output_type": "stream",
     "text": [
      "2.2.0-dlenv\n"
     ]
    }
   ],
   "source": [
    "import tensorflow as tf\n",
    "print(tf.__version__)\n",
    "import pandas as pd\n",
    "import numpy as np\n",
    "from datetime import datetime\n",
    "from models import Autoencoder, EncoderStack\n",
    "from tensorflow.keras.layers.experimental.preprocessing import Normalization\n",
    "from tensorflow.keras.utils import to_categorical\n",
    "from sklearn.model_selection import ShuffleSplit\n",
    "from sklearn.preprocessing import normalize\n",
    "import dataset\n",
    "import neptune\n",
    "import neptune_tensorboard as neptune_tb\n",
    "import os\n",
    "import logging"
   ]
  },
  {
   "cell_type": "markdown",
   "metadata": {},
   "source": [
    "### Set experiment configuration"
   ]
  },
  {
   "cell_type": "code",
   "execution_count": 2,
   "metadata": {
    "execution": {
     "iopub.execute_input": "2020-08-07T12:55:35.282684Z",
     "iopub.status.busy": "2020-08-07T12:55:35.282284Z",
     "iopub.status.idle": "2020-08-07T12:55:35.288829Z",
     "shell.execute_reply": "2020-08-07T12:55:35.287591Z",
     "shell.execute_reply.started": "2020-08-07T12:55:35.282648Z"
    }
   },
   "outputs": [],
   "source": [
    "config = {\n",
    "    \"N_NODES\": [2000, 1000, 500],\n",
    "    \"DROPOUT\": [0.1],\n",
    "    \"BATCH_SIZE\": 15,\n",
    "    \"EPOCHS\": 150,\n",
    "    \"TEST_RATIO\": 0.20,\n",
    "    \"DATA_BUCKET\": \"sdae-geo\",\n",
    "    \"DATA_OBJECT\": \"GEO_data_batch_corr_final.csv\",\n",
    "    \"DATA_LABELS\": \" GBM_class.csv\",\n",
    "    \"VERBOSITY\": 2,\n",
    "    \"LOG_DIR\": \"./log_dir\",\n",
    "    \"PATIENCE\":5\n",
    "}\n"
   ]
  },
  {
   "cell_type": "markdown",
   "metadata": {},
   "source": [
    "## Initialize Netptune and Tensorboard logging"
   ]
  },
  {
   "cell_type": "code",
   "execution_count": 3,
   "metadata": {
    "execution": {
     "iopub.execute_input": "2020-08-07T12:55:35.291565Z",
     "iopub.status.busy": "2020-08-07T12:55:35.291182Z",
     "iopub.status.idle": "2020-08-07T12:55:45.125012Z",
     "shell.execute_reply": "2020-08-07T12:55:45.123780Z",
     "shell.execute_reply.started": "2020-08-07T12:55:35.291533Z"
    }
   },
   "outputs": [
    {
     "name": "stderr",
     "output_type": "stream",
     "text": [
      "NVMLError: NVML Shared Library Not Found - GPU usage metrics may not be reported.\n"
     ]
    },
    {
     "name": "stdout",
     "output_type": "stream",
     "text": [
      "https://ui.neptune.ai/AiPBBAND/SDAE/e/SAN-5\n"
     ]
    },
    {
     "name": "stderr",
     "output_type": "stream",
     "text": [
      "project directory: ./log_dir/SAN-5\n"
     ]
    }
   ],
   "source": [
    "os.environ['NEPTUNE_API_TOKEN']=\"eyJhcGlfYWRkcmVzcyI6Imh0dHBzOi8vdWkubmVwdHVuZS5haSIsImFwaV91cmwiOiJodHRwczovL3VpLm5lcHR1bmUuYWkiLCJhcGlfa2V5IjoiYjNiYmZhYjEtNzc3ZS00Y2NhLWI5NTgtYWU0MmQyMWJhM2I0In0=\"\n",
    "os.environ['NEPTUNE_PROJECT']='AiPBBAND/SDAE'\n",
    "os.environ['NEPTUNE_NOTEBOOK_ID']=\"ecd86e96-4da7-44e3-9a17-43da2dfcae35\"\n",
    "os.environ['NEPTUNE_NOTEBOOK_PATH']=\"constrained-SDAE/sdae.ipynb\"\n",
    "\n",
    "neptune.init(os.environ['NEPTUNE_PROJECT'], api_token=os.environ['NEPTUNE_API_TOKEN'])\n",
    "\n",
    "logger = logging.getLogger(\"SDAE\")\n",
    "logger.setLevel(logging.DEBUG)\n",
    "logger.addHandler(logging.StreamHandler())\n",
    "\n",
    "experiment = neptune.create_experiment(name='configuration', params=config, \n",
    "    logger=logger, upload_source_files=[\"*.py\"])\n",
    "\n",
    "os.environ['EXP_DIR'] = os.path.join(config[\"LOG_DIR\"], experiment.id)\n",
    "os.mkdir(os.environ['EXP_DIR'])\n",
    "\n",
    "logger.info(\"project directory: {}\".format(os.environ['EXP_DIR']))\n",
    "!neptune tensorboard ${EXP_DIR} --project ${NEPTUNE_PROJECT}\n",
    "%load_ext tensorboard"
   ]
  },
  {
   "cell_type": "markdown",
   "metadata": {},
   "source": [
    "### Start tensorboard server\n",
    "Tensorboard by running the following command in a terminal:"
   ]
  },
  {
   "cell_type": "code",
   "execution_count": 4,
   "metadata": {
    "execution": {
     "iopub.execute_input": "2020-08-07T12:55:45.127031Z",
     "iopub.status.busy": "2020-08-07T12:55:45.126695Z",
     "iopub.status.idle": "2020-08-07T12:55:45.132440Z",
     "shell.execute_reply": "2020-08-07T12:55:45.131400Z",
     "shell.execute_reply.started": "2020-08-07T12:55:45.126997Z"
    }
   },
   "outputs": [
    {
     "name": "stdout",
     "output_type": "stream",
     "text": [
      "tensorboard --logdir ./log_dir/SAN-5 --bind_all\n"
     ]
    }
   ],
   "source": [
    "print(\"tensorboard --logdir {} --bind_all\".format(os.environ['EXP_DIR']))"
   ]
  },
  {
   "cell_type": "markdown",
   "metadata": {
    "execution": {
     "iopub.execute_input": "2020-08-07T00:26:47.747982Z",
     "iopub.status.busy": "2020-08-07T00:26:47.747592Z",
     "iopub.status.idle": "2020-08-07T00:26:47.754814Z",
     "shell.execute_reply": "2020-08-07T00:26:47.753548Z",
     "shell.execute_reply.started": "2020-08-07T00:26:47.747952Z"
    }
   },
   "source": [
    "**Tensorboard cannot server over HTTPS, use external HTTP url: http://34.77.45.86:6006/**"
   ]
  },
  {
   "cell_type": "markdown",
   "metadata": {},
   "source": [
    "# Load and preprocess the data"
   ]
  },
  {
   "cell_type": "markdown",
   "metadata": {},
   "source": [
    "## Load data from Google Storage"
   ]
  },
  {
   "cell_type": "code",
   "execution_count": 5,
   "metadata": {
    "execution": {
     "iopub.execute_input": "2020-08-07T12:55:45.134542Z",
     "iopub.status.busy": "2020-08-07T12:55:45.134014Z",
     "iopub.status.idle": "2020-08-07T12:55:48.604350Z",
     "shell.execute_reply": "2020-08-07T12:55:48.602822Z",
     "shell.execute_reply.started": "2020-08-07T12:55:45.134483Z"
    }
   },
   "outputs": [
    {
     "name": "stderr",
     "output_type": "stream",
     "text": [
      "Initializing dataset...\n",
      "Downloading data files from GS storage.\n",
      "File GEO_data_batch_corr_final.csv downloaded to ./log_dir/SAN-5/GEO_data_batch_corr_final.csv.\n",
      "Loaded 954 samples with 6785 features.\n"
     ]
    }
   ],
   "source": [
    "dataframe = dataset.load_gs_data(config['DATA_BUCKET'], config['DATA_OBJECT'], os.environ['EXP_DIR'])"
   ]
  },
  {
   "cell_type": "markdown",
   "metadata": {},
   "source": [
    "## Normalize data feature-wize"
   ]
  },
  {
   "cell_type": "code",
   "execution_count": 6,
   "metadata": {
    "execution": {
     "iopub.execute_input": "2020-08-07T12:55:48.606395Z",
     "iopub.status.busy": "2020-08-07T12:55:48.605999Z",
     "iopub.status.idle": "2020-08-07T12:55:48.701526Z",
     "shell.execute_reply": "2020-08-07T12:55:48.700243Z",
     "shell.execute_reply.started": "2020-08-07T12:55:48.606360Z"
    }
   },
   "outputs": [],
   "source": [
    "data = dataframe.values\n",
    "data = normalize(data)"
   ]
  },
  {
   "cell_type": "markdown",
   "metadata": {},
   "source": [
    "## Split into training and testing sets"
   ]
  },
  {
   "cell_type": "code",
   "execution_count": 7,
   "metadata": {
    "execution": {
     "iopub.execute_input": "2020-08-07T12:55:48.703308Z",
     "iopub.status.busy": "2020-08-07T12:55:48.702994Z",
     "iopub.status.idle": "2020-08-07T12:55:49.585614Z",
     "shell.execute_reply": "2020-08-07T12:55:49.584622Z",
     "shell.execute_reply.started": "2020-08-07T12:55:48.703279Z"
    }
   },
   "outputs": [
    {
     "name": "stderr",
     "output_type": "stream",
     "text": [
      "20% of samples for training: 763 training, 191 testing.\n"
     ]
    }
   ],
   "source": [
    "rs = ShuffleSplit(n_splits=1, test_size=config['TEST_RATIO'], random_state=0)\n",
    "split_itterator = rs.split(data)\n",
    "i_train, i_test = next(split_itterator)\n",
    "train_path = os.path.join(os.environ['EXP_DIR'], \"train_indices.npy\")\n",
    "test_path = os.path.join(os.environ['EXP_DIR'], \"test_indices.npy\")\n",
    "np.save(train_path, i_train)\n",
    "np.save(test_path, i_test)\n",
    "neptune.log_artifact(train_path)\n",
    "neptune.log_artifact(test_path)\n",
    "\n",
    "x_train, x_test = data[i_train], data[i_test]\n",
    "\n",
    "logger.info(\"{}% of samples for training: {} training, {} testing.\".format(int(config['TEST_RATIO']*100), len(i_train), len(i_test)))"
   ]
  },
  {
   "cell_type": "markdown",
   "metadata": {
    "execution": {
     "iopub.execute_input": "2020-07-27T03:12:17.561113Z",
     "iopub.status.busy": "2020-07-27T03:12:17.560466Z",
     "iopub.status.idle": "2020-07-27T03:12:17.565053Z",
     "shell.execute_reply": "2020-07-27T03:12:17.564431Z",
     "shell.execute_reply.started": "2020-07-27T03:12:17.561079Z"
    }
   },
   "source": [
    "# Train encoder layers"
   ]
  },
  {
   "cell_type": "code",
   "execution_count": null,
   "metadata": {
    "execution": {
     "iopub.execute_input": "2020-08-07T12:55:49.587684Z",
     "iopub.status.busy": "2020-08-07T12:55:49.587398Z",
     "iopub.status.idle": "2020-08-07T10:16:50.832137Z",
     "shell.execute_reply": "2020-08-07T10:16:50.830953Z",
     "shell.execute_reply.started": "2020-08-07T10:06:37.458902Z"
    }
   },
   "outputs": [
    {
     "name": "stderr",
     "output_type": "stream",
     "text": [
      "Starting training for 3 encoder layers.\n",
      "Training layer 0 with 2000 hidden nodes..\n"
     ]
    },
    {
     "name": "stdout",
     "output_type": "stream",
     "text": [
      "Epoch 1/150\n",
      "51/51 [==============================] - 12s 228ms/step - loss: 0.1745 - val_loss: 0.0683\n",
      "Epoch 2/150\n",
      "51/51 [==============================] - 11s 219ms/step - loss: 0.0202 - val_loss: 0.0055\n",
      "Epoch 3/150\n",
      " 5/51 [=>............................] - ETA: 7s - loss: 0.0045"
     ]
    }
   ],
   "source": [
    "logger.info(\"Starting training for {} encoder layers.\".format(len(config[\"N_NODES\"])))\n",
    "\n",
    "x_train_out, x_test_out = x_train, x_test\n",
    "for idx, num_hidden in enumerate(config[\"N_NODES\"]):\n",
    "    logger.info(\"Training layer {} with {} hidden nodes..\".format(idx, num_hidden))\n",
    "    encoder = Autoencoder(x_train_out.shape[1], num_hidden, os.environ['EXP_DIR'])\n",
    "    \n",
    "    recon_mse = encoder.fit(x_train_out, x_test_out, batch_size=config[\"BATCH_SIZE\"], \n",
    "        num_epochs=config[\"EPOCHS\"], verbose=config[\"VERBOSITY\"], patience=config[\"PATIENCE\"])\n",
    "    \n",
    "    x_train_out = encoder.encoder_model.predict(x_train_out)\n",
    "    x_test_out = encoder.encoder_model.predict(x_test_out)\n",
    "    logger.info(\"Training losss for layer {}: {} \".format(idx, recon_mse[0]))\n",
    "    logger.info(\"Testing loss for layer {}: {} \".format(idx, recon_mse[1]))\n",
    "    \n",
    "    model_path = os.path.join(os.environ['EXP_DIR'], \"encoders\", \"model_{}_{}\".format(idx,num_hidden))\n",
    "    encoder.encoder_model.save(model_path)\n",
    "    neptune.log_artifact(model_path)\n",
    "    neptune.set_property('encoder{}'.format(idx), model_path)\n",
    "\n",
    "\n"
   ]
  },
  {
   "cell_type": "code",
   "execution_count": null,
   "metadata": {
    "execution": {
     "iopub.execute_input": "2020-08-07T10:16:50.834686Z",
     "iopub.status.busy": "2020-08-07T10:16:50.834173Z",
     "iopub.status.idle": "2020-08-07T10:16:54.874049Z",
     "shell.execute_reply": "2020-08-07T10:16:54.872728Z",
     "shell.execute_reply.started": "2020-08-07T10:16:50.834636Z"
    }
   },
   "outputs": [],
   "source": [
    "neptune.stop()"
   ]
  }
 ],
 "metadata": {
  "environment": {
   "name": "tf2-2-2-gpu.2-2.m50",
   "type": "gcloud",
   "uri": "gcr.io/deeplearning-platform-release/tf2-2-2-gpu.2-2:m50"
  },
  "kernelspec": {
   "display_name": "Python 3",
   "language": "python",
   "name": "python3"
  },
  "language_info": {
   "codemirror_mode": {
    "name": "ipython",
    "version": 3
   },
   "file_extension": ".py",
   "mimetype": "text/x-python",
   "name": "python",
   "nbconvert_exporter": "python",
   "pygments_lexer": "ipython3",
   "version": "3.7.6"
  },
  "neptune": {
   "notebookId": "ecd86e96-4da7-44e3-9a17-43da2dfcae35"
  },
  "record_timing": true,
  "widgets": {
   "application/vnd.jupyter.widget-state+json": {
    "state": {},
    "version_major": 2,
    "version_minor": 0
   }
  }
 },
 "nbformat": 4,
 "nbformat_minor": 4
}
