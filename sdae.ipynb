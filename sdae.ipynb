{
 "cells": [
  {
   "cell_type": "code",
   "execution_count": 2,
   "metadata": {
    "execution": {
     "iopub.execute_input": "2020-07-27T03:01:15.220182Z",
     "iopub.status.busy": "2020-07-27T03:01:15.219574Z",
     "iopub.status.idle": "2020-07-27T03:01:17.170482Z",
     "shell.execute_reply": "2020-07-27T03:01:17.169833Z",
     "shell.execute_reply.started": "2020-07-27T03:01:15.220147Z"
    }
   },
   "outputs": [],
   "source": [
    "import os\n",
    "import pandas as pd\n",
    "import numpy as np\n",
    "from datetime import datetime\n",
    "from models import Autoencoder, EncoderStack\n",
    "from sklearn.model_selection import train_test_split\n",
    "from sklearn.preprocessing import normalize\n",
    "from tensorflow.keras.utils import to_categorical"
   ]
  },
  {
   "cell_type": "markdown",
   "metadata": {},
   "source": [
    "# Load and check data"
   ]
  },
  {
   "cell_type": "code",
   "execution_count": 27,
   "metadata": {
    "execution": {
     "iopub.execute_input": "2020-07-27T03:20:13.326285Z",
     "iopub.status.busy": "2020-07-27T03:20:13.321977Z",
     "iopub.status.idle": "2020-07-27T03:20:13.335045Z",
     "shell.execute_reply": "2020-07-27T03:20:13.334267Z",
     "shell.execute_reply.started": "2020-07-27T03:20:13.326230Z"
    }
   },
   "outputs": [],
   "source": [
    "FILE_NAME = \"GEO_data_batch_corr_final\"\n",
    "\n",
    "N_LAYERS = 3\n",
    "N_NODES = [2000, 1000, 500]\n",
    "DROPOUT = [0.1]\n",
    "BATCH_SIZE = 3\n",
    "EPOCHS = 10\n",
    "TEST_RATIO = 0.15\n",
    "\n",
    "assert len(N_NODES) == N_LAYERS or len(N_NODES) == 1\n",
    "assert len(DROPOUT) == N_LAYERS or len(DROPOUT) == 1"
   ]
  },
  {
   "cell_type": "code",
   "execution_count": 28,
   "metadata": {
    "execution": {
     "iopub.execute_input": "2020-07-27T03:20:14.131052Z",
     "iopub.status.busy": "2020-07-27T03:20:14.130471Z",
     "iopub.status.idle": "2020-07-27T03:20:14.366560Z",
     "shell.execute_reply": "2020-07-27T03:20:14.365870Z",
     "shell.execute_reply.started": "2020-07-27T03:20:14.131017Z"
    }
   },
   "outputs": [
    {
     "name": "stdout",
     "output_type": "stream",
     "text": [
      "Loaded 954 samples with 6785 features.\n",
      "Keeping 0.15 of samples for training: 810 training, 144 testing.\n"
     ]
    }
   ],
   "source": [
    "dataframe = pd.read_pickle('data/pd/'+FILE_NAME)\n",
    "print(\"Loaded {} samples with {} features.\".format(dataframe.shape[0], dataframe.shape[1]))\n",
    "data = dataframe.values\n",
    "data = normalize(data)\n",
    "\n",
    "classes = np.random.randint(0,1, dataframe.shape[0])\n",
    "classes = to_categorical(classes)\n",
    "\n",
    "x_train, x_test, y_train, y_test = train_test_split(data, classes, test_size=TEST_RATIO)\n",
    "print(\"Keeping {} of samples for training: {} training, {} testing.\".format(TEST_RATIO, x_train.shape[0], x_test.shape[0]))"
   ]
  },
  {
   "cell_type": "markdown",
   "metadata": {
    "execution": {
     "iopub.execute_input": "2020-07-27T03:12:17.561113Z",
     "iopub.status.busy": "2020-07-27T03:12:17.560466Z",
     "iopub.status.idle": "2020-07-27T03:12:17.565053Z",
     "shell.execute_reply": "2020-07-27T03:12:17.564431Z",
     "shell.execute_reply.started": "2020-07-27T03:12:17.561079Z"
    }
   },
   "source": [
    "# Train encoder layers"
   ]
  },
  {
   "cell_type": "code",
   "execution_count": null,
   "metadata": {
    "execution": {
     "iopub.execute_input": "2020-07-27T03:21:26.322888Z",
     "iopub.status.busy": "2020-07-27T03:21:26.322276Z",
     "iopub.status.idle": "2020-07-27T03:20:57.411075Z",
     "shell.execute_reply": "2020-07-27T03:20:57.410334Z",
     "shell.execute_reply.started": "2020-07-27T03:20:19.096289Z"
    }
   },
   "outputs": [
    {
     "name": "stdout",
     "output_type": "stream",
     "text": [
      "\n",
      "##################################################################\n",
      "Training layer 0 with 2000 hidden nodes..\n",
      "\n",
      "Epoch 1/10\n",
      "270/270 [==============================] - 60s 222ms/step - loss: 0.0377 - val_loss: 3.6847e-04\n",
      "Epoch 2/10\n",
      "270/270 [==============================] - 67s 247ms/step - loss: 1.0229e-04 - val_loss: 3.6565e-05\n",
      "Epoch 3/10\n",
      "270/270 [==============================] - 67s 246ms/step - loss: 2.2105e-05 - val_loss: 1.4406e-05\n",
      "Epoch 4/10\n",
      "270/270 [==============================] - 66s 243ms/step - loss: 1.1626e-05 - val_loss: 1.1865e-05\n",
      "Epoch 5/10\n",
      "270/270 [==============================] - 70s 259ms/step - loss: 8.0381e-06 - val_loss: 6.6854e-06\n",
      "Epoch 6/10\n",
      "270/270 [==============================] - 105s 389ms/step - loss: 6.6501e-06 - val_loss: 5.8621e-06\n",
      "Epoch 7/10\n",
      "187/270 [===================>..........] - ETA: 31s - loss: 5.2860e-06"
     ]
    }
   ],
   "source": [
    "encoder_models = []\n",
    "\n",
    "x_train_out, x_test_out = x_train, x_test\n",
    "for idx, num_hidden in enumerate(N_NODES):\n",
    "    print(\"\\n##################################################################\")\n",
    "    print(\"Training layer {} with {} hidden nodes..\\n\".format(idx, num_hidden))\n",
    "    encoder = Autoencoder(x_train_out.shape[1], num_hidden, \"output/\")\n",
    "    recon_mse = encoder.fit(x_train_out, x_test_out, batch_size=BATCH_SIZE, num_epochs=EPOCHS)\n",
    "    x_train_out = encoder.encoder_model.predict(x_train_out)\n",
    "    x_test_out = encoder.encoder_model.predict(x_test_out)\n",
    "    print(\"\\nTraining losss: \", recon_mse[0])\n",
    "    print(\"\\nTesting loss: \", recon_mse[1])\n",
    "    encoder_models.append(encoder)"
   ]
  },
  {
   "cell_type": "markdown",
   "metadata": {
    "execution": {
     "iopub.execute_input": "2020-07-27T03:19:23.111926Z",
     "iopub.status.busy": "2020-07-27T03:19:23.111222Z",
     "iopub.status.idle": "2020-07-27T03:19:26.418736Z",
     "shell.execute_reply": "2020-07-27T03:19:26.418082Z",
     "shell.execute_reply.started": "2020-07-27T03:19:23.111888Z"
    }
   },
   "source": [
    "# Train encoder stack"
   ]
  },
  {
   "cell_type": "code",
   "execution_count": 26,
   "metadata": {
    "execution": {
     "iopub.execute_input": "2020-07-27T03:19:23.111926Z",
     "iopub.status.busy": "2020-07-27T03:19:23.111222Z",
     "iopub.status.idle": "2020-07-27T03:19:26.418736Z",
     "shell.execute_reply": "2020-07-27T03:19:26.418082Z",
     "shell.execute_reply.started": "2020-07-27T03:19:23.111888Z"
    }
   },
   "outputs": [
    {
     "name": "stdout",
     "output_type": "stream",
     "text": [
      "\n",
      "##################################################################\n",
      "Training layer 1 with 50 hidden nodes..\n",
      "\n",
      "Epoch 1/3\n",
      "33/33 [==============================] - 1s 17ms/step - loss: 0.0820 - val_loss: 0.0104\n",
      "Epoch 2/3\n",
      "33/33 [==============================] - 0s 11ms/step - loss: 0.0052 - val_loss: 0.0021\n",
      "Epoch 3/3\n",
      "33/33 [==============================] - 0s 11ms/step - loss: 0.0012 - val_loss: 5.5999e-04\n",
      "INFO:tensorflow:Assets written to: output/20200727-031923/encoder_stack/assets\n",
      "\n",
      "Training losss:  0.023681095\n",
      "\n",
      "Testing loss:  0.023681173\n"
     ]
    }
   ],
   "source": [
    "model = EncoderStack(encoder_models, 'output/')\n",
    "\n",
    "print(\"\\n##################################################################\")\n",
    "print(\"Training layer {} with {} hidden nodes..\\n\".format(idx, num_hidden))\n",
    "loss_train, loss_test = model.fit(x_train, y_train, x_test, y_test, batch_size=BATCH_SIZE, num_epochs=EPOCHS)\n",
    "\n",
    "print(\"\\nTraining losss: \", loss_train)\n",
    "print(\"\\nTesting loss: \", loss_test)"
   ]
  },
  {
   "cell_type": "code",
   "execution_count": null,
   "metadata": {},
   "outputs": [],
   "source": []
  }
 ],
 "metadata": {
  "environment": {
   "name": "tf2-2-2-gpu.2-2.m50",
   "type": "gcloud",
   "uri": "gcr.io/deeplearning-platform-release/tf2-2-2-gpu.2-2:m50"
  },
  "kernelspec": {
   "display_name": "Python 3",
   "language": "python",
   "name": "python3"
  },
  "language_info": {
   "codemirror_mode": {
    "name": "ipython",
    "version": 3
   },
   "file_extension": ".py",
   "mimetype": "text/x-python",
   "name": "python",
   "nbconvert_exporter": "python",
   "pygments_lexer": "ipython3",
   "version": "3.7.6"
  },
  "record_timing": true,
  "widgets": {
   "application/vnd.jupyter.widget-state+json": {
    "state": {},
    "version_major": 2,
    "version_minor": 0
   }
  }
 },
 "nbformat": 4,
 "nbformat_minor": 4
}
