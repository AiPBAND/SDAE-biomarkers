{
 "cells": [
  {
   "cell_type": "code",
   "execution_count": 1,
   "metadata": {
    "execution": {
     "iopub.execute_input": "2020-07-27T03:53:45.914454Z",
     "iopub.status.busy": "2020-07-27T03:53:45.914037Z",
     "iopub.status.idle": "2020-07-27T03:53:48.576045Z",
     "shell.execute_reply": "2020-07-27T03:53:48.575090Z",
     "shell.execute_reply.started": "2020-07-27T03:53:45.914421Z"
    }
   },
   "outputs": [],
   "source": [
    "import os\n",
    "import pandas as pd\n",
    "import numpy as np\n",
    "from datetime import datetime\n",
    "from models import Autoencoder, EncoderStack\n",
    "from sklearn.model_selection import train_test_split\n",
    "from sklearn.preprocessing import normalize\n",
    "from tensorflow.keras.utils import to_categorical"
   ]
  },
  {
   "cell_type": "markdown",
   "metadata": {},
   "source": [
    "# Load and check data"
   ]
  },
  {
   "cell_type": "code",
   "execution_count": 2,
   "metadata": {
    "execution": {
     "iopub.execute_input": "2020-07-27T03:53:48.578075Z",
     "iopub.status.busy": "2020-07-27T03:53:48.577764Z",
     "iopub.status.idle": "2020-07-27T03:53:48.585158Z",
     "shell.execute_reply": "2020-07-27T03:53:48.583252Z",
     "shell.execute_reply.started": "2020-07-27T03:53:48.578045Z"
    }
   },
   "outputs": [],
   "source": [
    "FILE_NAME = \"GEO_data_batch_corr_final\"\n",
    "\n",
    "N_LAYERS = 3\n",
    "N_NODES = [2000, 1000, 500]\n",
    "DROPOUT = [0.1]\n",
    "BATCH_SIZE = 3\n",
    "EPOCHS = 10\n",
    "TEST_RATIO = 0.15\n",
    "\n",
    "assert len(N_NODES) == N_LAYERS or len(N_NODES) == 1\n",
    "assert len(DROPOUT) == N_LAYERS or len(DROPOUT) == 1"
   ]
  },
  {
   "cell_type": "code",
   "execution_count": 3,
   "metadata": {
    "execution": {
     "iopub.execute_input": "2020-07-27T03:53:48.587931Z",
     "iopub.status.busy": "2020-07-27T03:53:48.587484Z",
     "iopub.status.idle": "2020-07-27T03:53:49.459651Z",
     "shell.execute_reply": "2020-07-27T03:53:49.458705Z",
     "shell.execute_reply.started": "2020-07-27T03:53:48.587884Z"
    }
   },
   "outputs": [
    {
     "name": "stdout",
     "output_type": "stream",
     "text": [
      "Loaded 954 samples with 6785 features.\n",
      "Keeping 0.15 of samples for training: 810 training, 144 testing.\n"
     ]
    }
   ],
   "source": [
    "dataframe = pd.read_pickle('data/pd/'+FILE_NAME)\n",
    "print(\"Loaded {} samples with {} features.\".format(dataframe.shape[0], dataframe.shape[1]))\n",
    "data = dataframe.values\n",
    "data = normalize(data)\n",
    "\n",
    "classes = np.random.randint(0,1, dataframe.shape[0])\n",
    "classes = to_categorical(classes)\n",
    "\n",
    "x_train, x_test, y_train, y_test = train_test_split(data, classes, test_size=TEST_RATIO)\n",
    "print(\"Keeping {} of samples for training: {} training, {} testing.\".format(TEST_RATIO, x_train.shape[0], x_test.shape[0]))"
   ]
  },
  {
   "cell_type": "markdown",
   "metadata": {
    "execution": {
     "iopub.execute_input": "2020-07-27T03:12:17.561113Z",
     "iopub.status.busy": "2020-07-27T03:12:17.560466Z",
     "iopub.status.idle": "2020-07-27T03:12:17.565053Z",
     "shell.execute_reply": "2020-07-27T03:12:17.564431Z",
     "shell.execute_reply.started": "2020-07-27T03:12:17.561079Z"
    }
   },
   "source": [
    "# Train encoder layers"
   ]
  },
  {
   "cell_type": "code",
   "execution_count": 4,
   "metadata": {
    "execution": {
     "iopub.execute_input": "2020-07-27T03:53:49.461950Z",
     "iopub.status.busy": "2020-07-27T03:53:49.461597Z",
     "iopub.status.idle": "2020-07-27T04:05:38.721625Z",
     "shell.execute_reply": "2020-07-27T04:05:38.713210Z",
     "shell.execute_reply.started": "2020-07-27T03:53:49.461909Z"
    }
   },
   "outputs": [
    {
     "name": "stdout",
     "output_type": "stream",
     "text": [
      "\n",
      "##################################################################\n",
      "Training layer 0 with 2000 hidden nodes..\n",
      "\n",
      "Epoch 1/10\n",
      "270/270 [==============================] - 67s 248ms/step - loss: 0.0375 - val_loss: 2.6960e-04\n",
      "Epoch 2/10\n",
      "270/270 [==============================] - 66s 246ms/step - loss: 1.0012e-04 - val_loss: 3.5112e-05\n",
      "Epoch 3/10\n",
      "270/270 [==============================] - 68s 251ms/step - loss: 2.1946e-05 - val_loss: 1.6536e-05\n",
      "Epoch 4/10\n",
      "270/270 [==============================] - 68s 252ms/step - loss: 1.1693e-05 - val_loss: 1.1987e-05\n",
      "Epoch 5/10\n",
      "270/270 [==============================] - 67s 247ms/step - loss: 8.1673e-06 - val_loss: 7.0609e-06\n",
      "Epoch 6/10\n",
      "270/270 [==============================] - 67s 247ms/step - loss: 6.3843e-06 - val_loss: 5.6557e-06\n",
      "Epoch 7/10\n",
      "270/270 [==============================] - 68s 252ms/step - loss: 5.2730e-06 - val_loss: 4.9850e-06\n",
      "Epoch 8/10\n",
      "270/270 [==============================] - 68s 252ms/step - loss: 4.6653e-06 - val_loss: 7.2022e-06\n",
      "WARNING:tensorflow:From /opt/conda/lib/python3.7/site-packages/tensorflow/python/ops/resource_variable_ops.py:1817: calling BaseResourceVariable.__init__ (from tensorflow.python.ops.resource_variable_ops) with constraint is deprecated and will be removed in a future version.\n",
      "Instructions for updating:\n",
      "If using Keras pass *_constraint arguments to layers.\n",
      "INFO:tensorflow:Assets written to: output/20200727-035350/autoencoder-2000/assets\n",
      "\n",
      "Training losss:  7.0468855e-06\n",
      "\n",
      "Testing loss:  7.0703354e-06\n",
      "\n",
      "##################################################################\n",
      "Training layer 1 with 1000 hidden nodes..\n",
      "\n",
      "Epoch 1/10\n",
      "270/270 [==============================] - 17s 63ms/step - loss: 0.0158 - val_loss: 3.9351e-04\n",
      "Epoch 2/10\n",
      "270/270 [==============================] - 16s 60ms/step - loss: 2.7006e-04 - val_loss: 8.7898e-05\n",
      "Epoch 3/10\n",
      "270/270 [==============================] - 17s 63ms/step - loss: 6.0894e-05 - val_loss: 4.6091e-05\n",
      "Epoch 4/10\n",
      "270/270 [==============================] - 16s 60ms/step - loss: 2.5673e-05 - val_loss: 1.1729e-05\n",
      "Epoch 5/10\n",
      "270/270 [==============================] - 18s 67ms/step - loss: 1.5074e-05 - val_loss: 7.8071e-06\n",
      "Epoch 6/10\n",
      "270/270 [==============================] - 17s 61ms/step - loss: 1.0633e-05 - val_loss: 3.7205e-06\n",
      "Epoch 7/10\n",
      "270/270 [==============================] - 16s 61ms/step - loss: 7.9333e-06 - val_loss: 6.5804e-06\n",
      "INFO:tensorflow:Assets written to: output/20200727-040256/autoencoder-1000/assets\n",
      "\n",
      "Training losss:  6.4089695e-06\n",
      "\n",
      "Testing loss:  6.4348396e-06\n",
      "\n",
      "##################################################################\n",
      "Training layer 2 with 500 hidden nodes..\n",
      "\n",
      "Epoch 1/10\n",
      "270/270 [==============================] - 8s 28ms/step - loss: 0.0078 - val_loss: 0.0015\n",
      "Epoch 2/10\n",
      "270/270 [==============================] - 8s 29ms/step - loss: 0.0011 - val_loss: 4.1327e-04\n",
      "Epoch 3/10\n",
      "270/270 [==============================] - 7s 27ms/step - loss: 2.8772e-04 - val_loss: 2.5125e-04\n",
      "Epoch 4/10\n",
      "270/270 [==============================] - 7s 26ms/step - loss: 1.1983e-04 - val_loss: 6.7242e-05\n",
      "Epoch 5/10\n",
      "270/270 [==============================] - 8s 31ms/step - loss: 6.4511e-05 - val_loss: 1.3250e-04\n",
      "INFO:tensorflow:Assets written to: output/20200727-040457/autoencoder-500/assets\n",
      "\n",
      "Training losss:  0.0001324397\n",
      "\n",
      "Testing loss:  0.0001324492\n"
     ]
    }
   ],
   "source": [
    "encoder_models = []\n",
    "\n",
    "x_train_out, x_test_out = x_train, x_test\n",
    "for idx, num_hidden in enumerate(N_NODES):\n",
    "    print(\"\\n##################################################################\")\n",
    "    print(\"Training layer {} with {} hidden nodes..\\n\".format(idx, num_hidden))\n",
    "    encoder = Autoencoder(x_train_out.shape[1], num_hidden, \"output/\")\n",
    "    recon_mse = encoder.fit(x_train_out, x_test_out, batch_size=BATCH_SIZE, num_epochs=EPOCHS)\n",
    "    x_train_out = encoder.encoder_model.predict(x_train_out)\n",
    "    x_test_out = encoder.encoder_model.predict(x_test_out)\n",
    "    print(\"\\nTraining losss: \", recon_mse[0])\n",
    "    print(\"\\nTesting loss: \", recon_mse[1])\n",
    "    encoder_models.append(encoder)"
   ]
  },
  {
   "cell_type": "markdown",
   "metadata": {
    "execution": {
     "iopub.execute_input": "2020-07-27T03:19:23.111926Z",
     "iopub.status.busy": "2020-07-27T03:19:23.111222Z",
     "iopub.status.idle": "2020-07-27T03:19:26.418736Z",
     "shell.execute_reply": "2020-07-27T03:19:26.418082Z",
     "shell.execute_reply.started": "2020-07-27T03:19:23.111888Z"
    }
   },
   "source": [
    "# Train encoder stack"
   ]
  },
  {
   "cell_type": "code",
   "execution_count": 26,
   "metadata": {
    "execution": {
     "iopub.execute_input": "2020-07-27T03:19:23.111926Z",
     "iopub.status.busy": "2020-07-27T03:19:23.111222Z",
     "iopub.status.idle": "2020-07-27T03:19:26.418736Z",
     "shell.execute_reply": "2020-07-27T03:19:26.418082Z",
     "shell.execute_reply.started": "2020-07-27T03:19:23.111888Z"
    }
   },
   "outputs": [
    {
     "name": "stdout",
     "output_type": "stream",
     "text": [
      "\n",
      "##################################################################\n",
      "Training layer 1 with 50 hidden nodes..\n",
      "\n",
      "Epoch 1/3\n",
      "33/33 [==============================] - 1s 17ms/step - loss: 0.0820 - val_loss: 0.0104\n",
      "Epoch 2/3\n",
      "33/33 [==============================] - 0s 11ms/step - loss: 0.0052 - val_loss: 0.0021\n",
      "Epoch 3/3\n",
      "33/33 [==============================] - 0s 11ms/step - loss: 0.0012 - val_loss: 5.5999e-04\n",
      "INFO:tensorflow:Assets written to: output/20200727-031923/encoder_stack/assets\n",
      "\n",
      "Training losss:  0.023681095\n",
      "\n",
      "Testing loss:  0.023681173\n"
     ]
    }
   ],
   "source": [
    "model = EncoderStack(encoder_models, 'output/')\n",
    "\n",
    "print(\"\\n##################################################################\")\n",
    "print(\"Training layer {} with {} hidden nodes..\\n\".format(idx, num_hidden))\n",
    "loss_train, loss_test = model.fit(x_train, y_train, x_test, y_test, batch_size=BATCH_SIZE, num_epochs=EPOCHS)\n",
    "\n",
    "print(\"\\nTraining losss: \", loss_train)\n",
    "print(\"\\nTesting loss: \", loss_test)"
   ]
  },
  {
   "cell_type": "code",
   "execution_count": null,
   "metadata": {},
   "outputs": [],
   "source": []
  }
 ],
 "metadata": {
  "environment": {
   "name": "tf2-2-2-gpu.2-2.m50",
   "type": "gcloud",
   "uri": "gcr.io/deeplearning-platform-release/tf2-2-2-gpu.2-2:m50"
  },
  "kernelspec": {
   "display_name": "Python 3",
   "language": "python",
   "name": "python3"
  },
  "language_info": {
   "codemirror_mode": {
    "name": "ipython",
    "version": 3
   },
   "file_extension": ".py",
   "mimetype": "text/x-python",
   "name": "python",
   "nbconvert_exporter": "python",
   "pygments_lexer": "ipython3",
   "version": "3.7.6"
  },
  "record_timing": true,
  "widgets": {
   "application/vnd.jupyter.widget-state+json": {
    "state": {},
    "version_major": 2,
    "version_minor": 0
   }
  }
 },
 "nbformat": 4,
 "nbformat_minor": 4
}
