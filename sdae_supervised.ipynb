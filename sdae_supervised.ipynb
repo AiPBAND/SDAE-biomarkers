{
 "cells": [
  {
   "cell_type": "markdown",
   "metadata": {},
   "source": [
    "# supervised training of the encoder layers"
   ]
  },
  {
   "cell_type": "markdown",
   "metadata": {},
   "source": [
    "## Initial setup\n",
    "### Imports"
   ]
  },
  {
   "cell_type": "code",
   "execution_count": 2,
   "metadata": {
    "execution": {
     "iopub.execute_input": "2020-08-07T04:35:47.658089Z",
     "iopub.status.busy": "2020-08-07T04:35:47.657761Z",
     "iopub.status.idle": "2020-08-07T04:35:50.036079Z",
     "shell.execute_reply": "2020-08-07T04:35:50.034907Z",
     "shell.execute_reply.started": "2020-08-07T04:35:47.658060Z"
    }
   },
   "outputs": [
    {
     "name": "stdout",
     "output_type": "stream",
     "text": [
      "2.2.0-dlenv\n"
     ]
    }
   ],
   "source": [
    "import tensorflow as tf\n",
    "print(tf.__version__)\n",
    "import pandas as pd\n",
    "import numpy as np\n",
    "from models import EncoderStack\n",
    "from tensorflow.keras.layers.experimental.preprocessing import Normalization\n",
    "from tensorflow.keras.utils import to_categorical\n",
    "from sklearn.model_selection import ShuffleSplit\n",
    "from sklearn.preprocessing import normalize\n",
    "import dataset\n",
    "import neptune\n",
    "import neptune_tensorboard as neptune_tb\n",
    "import os\n",
    "import logging"
   ]
  },
  {
   "cell_type": "code",
   "execution_count": null,
   "metadata": {},
   "outputs": [],
   "source": []
  },
  {
   "cell_type": "markdown",
   "metadata": {},
   "source": [
    "### Set experiment configuration"
   ]
  },
  {
   "cell_type": "code",
   "execution_count": 3,
   "metadata": {
    "execution": {
     "iopub.execute_input": "2020-08-07T04:35:50.038600Z",
     "iopub.status.busy": "2020-08-07T04:35:50.037787Z",
     "iopub.status.idle": "2020-08-07T04:35:50.047607Z",
     "shell.execute_reply": "2020-08-07T04:35:50.046320Z",
     "shell.execute_reply.started": "2020-08-07T04:35:50.038517Z"
    }
   },
   "outputs": [],
   "source": [
    "config = {\n",
    "    \"N_NODES\": [1000, 500, 100],\n",
    "    \"DROPOUT\": [0.1],\n",
    "    \"BATCH_SIZE\": 15,\n",
    "    \"EPOCHS\": 5,\n",
    "    \"TEST_RATIO\": 0.30,\n",
    "    \"DATA_BUCKET\": \"sdae-geo\",\n",
    "    \"DATA_OBJECT\": \"GEO_data_batch_corr_final.csv\",\n",
    "    \"DATA_LABELS\": \" GBM_class.csv\",\n",
    "    \"VERBOSITY\": 2,\n",
    "    \"LOG_DIR\": \"./log_dir\",\n",
    "    \"PATIENCE\":3\n",
    "}\n"
   ]
  },
  {
   "cell_type": "markdown",
   "metadata": {},
   "source": [
    "## Initialize Netptune and Tensorboard logging"
   ]
  },
  {
   "cell_type": "code",
   "execution_count": 4,
   "metadata": {
    "execution": {
     "iopub.execute_input": "2020-08-07T04:35:50.050379Z",
     "iopub.status.busy": "2020-08-07T04:35:50.050038Z",
     "iopub.status.idle": "2020-08-07T04:35:55.668404Z",
     "shell.execute_reply": "2020-08-07T04:35:55.667269Z",
     "shell.execute_reply.started": "2020-08-07T04:35:50.050346Z"
    }
   },
   "outputs": [
    {
     "name": "stderr",
     "output_type": "stream",
     "text": [
      "NVMLError: NVML Shared Library Not Found - GPU usage metrics may not be reported.\n"
     ]
    },
    {
     "name": "stdout",
     "output_type": "stream",
     "text": [
      "https://ui.neptune.ai/jgeof/sdae/e/SDAE-230\n"
     ]
    },
    {
     "name": "stderr",
     "output_type": "stream",
     "text": [
      "project directory: ./log_dir/SDAE-230\n"
     ]
    }
   ],
   "source": [
    "os.environ['NEPTUNE_API_TOKEN']=\"eyJhcGlfYWRkcmVzcyI6Imh0dHBzOi8vdWkubmVwdHVuZS5haSIsImFwaV91cmwiOiJodHRwczovL3VpLm5lcHR1bmUuYWkiLCJhcGlfa2V5IjoiYjNiYmZhYjEtNzc3ZS00Y2NhLWI5NTgtYWU0MmQyMWJhM2I0In0=\"\n",
    "os.environ['NEPTUNE_PROJECT']=\"jgeof/sdae\"\n",
    "os.environ['NEPTUNE_NOTEBOOK_ID']=\"ecd86e96-4da7-44e3-9a17-43da2dfcae35\"\n",
    "os.environ['NEPTUNE_NOTEBOOK_PATH']=\"constrained-SDAE/sdae.ipynb\"\n",
    "\n",
    "neptune.init(os.environ['NEPTUNE_PROJECT'], api_token=os.environ['NEPTUNE_API_TOKEN'])\n",
    "\n",
    "logger = logging.getLogger(\"SDAE\")\n",
    "logger.setLevel(logging.DEBUG)\n",
    "logger.addHandler(logging.StreamHandler())\n",
    "\n",
    "experiment = neptune.create_experiment(name='configuration', params=config, logger=logger)\n",
    "\n",
    "os.environ['EXP_DIR'] = os.path.join(config[\"LOG_DIR\"], experiment.id)\n",
    "os.mkdir(os.environ['EXP_DIR'])\n",
    "\n",
    "logger.info(\"project directory: {}\".format(os.environ['EXP_DIR']))\n",
    "!neptune tensorboard ${EXP_DIR} --project ${NEPTUNE_PROJECT}\n",
    "%load_ext tensorboard"
   ]
  },
  {
   "cell_type": "markdown",
   "metadata": {},
   "source": [
    "### Start tensorboard server\n",
    "Tensorboard by running the following command in a terminal:"
   ]
  },
  {
   "cell_type": "code",
   "execution_count": 5,
   "metadata": {
    "execution": {
     "iopub.execute_input": "2020-08-07T04:35:55.670366Z",
     "iopub.status.busy": "2020-08-07T04:35:55.670070Z",
     "iopub.status.idle": "2020-08-07T04:35:55.675481Z",
     "shell.execute_reply": "2020-08-07T04:35:55.674474Z",
     "shell.execute_reply.started": "2020-08-07T04:35:55.670334Z"
    }
   },
   "outputs": [
    {
     "name": "stdout",
     "output_type": "stream",
     "text": [
      "tensorboard --logdir ./log_dir/SDAE-230 --bind_all\n"
     ]
    }
   ],
   "source": [
    "print(\"tensorboard --logdir {} --bind_all\".format(os.environ['EXP_DIR']))"
   ]
  },
  {
   "cell_type": "markdown",
   "metadata": {
    "execution": {
     "iopub.execute_input": "2020-08-07T00:26:47.747982Z",
     "iopub.status.busy": "2020-08-07T00:26:47.747592Z",
     "iopub.status.idle": "2020-08-07T00:26:47.754814Z",
     "shell.execute_reply": "2020-08-07T00:26:47.753548Z",
     "shell.execute_reply.started": "2020-08-07T00:26:47.747952Z"
    }
   },
   "source": [
    "**Tensorboard cannot server over HTTPS, use external HTTP url: http://34.77.45.86:6006/**"
   ]
  },
  {
   "cell_type": "markdown",
   "metadata": {},
   "source": [
    "# Load and preprocess the data"
   ]
  },
  {
   "cell_type": "markdown",
   "metadata": {},
   "source": [
    "## Load data from Google Storage"
   ]
  },
  {
   "cell_type": "code",
   "execution_count": 6,
   "metadata": {
    "execution": {
     "iopub.execute_input": "2020-08-07T04:35:55.677327Z",
     "iopub.status.busy": "2020-08-07T04:35:55.676927Z",
     "iopub.status.idle": "2020-08-07T04:35:58.744509Z",
     "shell.execute_reply": "2020-08-07T04:35:58.743479Z",
     "shell.execute_reply.started": "2020-08-07T04:35:55.677284Z"
    }
   },
   "outputs": [
    {
     "name": "stderr",
     "output_type": "stream",
     "text": [
      "Initializing dataset...\n",
      "Downloading data files from GS storage.\n",
      "File GEO_data_batch_corr_final.csv downloaded to ./log_dir/SDAE-230/GEO_data_batch_corr_final.csv.\n",
      "Loaded 954 samples with 6785 features.\n"
     ]
    }
   ],
   "source": [
    "dataframe = dataset.load_gs_data(config['DATA_BUCKET'], config['DATA_OBJECT'], os.environ['EXP_DIR'])"
   ]
  },
  {
   "cell_type": "code",
   "execution_count": null,
   "metadata": {},
   "outputs": [],
   "source": [
    "classes = pd.read_csv('data/pd/class.csv', header=None, index_col=0).values\n",
    "classes = to_categorical(classes)\n",
    "\n",
    "\n",
    "model = EncoderStack(encoder_models, 'output/')\n",
    "\n",
    "print(\"\\n##################################################################\")\n",
    "print(\"Training layer {} with {} hidden nodes..\\n\".format(idx, num_hidden))\n",
    "loss_train, loss_test = model.fit(x_train, y_train, x_test, y_test, batch_size=BATCH_SIZE, num_epochs=EPOCHS)\n",
    "\n",
    "print(\"\\nTraining losss: \", loss_train)\n",
    "print(\"\\nTesting loss: \", loss_test)"
   ]
  }
 ],
 "metadata": {
  "environment": {
   "name": "tf2-2-2-gpu.2-2.m50",
   "type": "gcloud",
   "uri": "gcr.io/deeplearning-platform-release/tf2-2-2-gpu.2-2:m50"
  },
  "kernelspec": {
   "display_name": "Python 3",
   "language": "python",
   "name": "python3"
  },
  "language_info": {
   "codemirror_mode": {
    "name": "ipython",
    "version": 3
   },
   "file_extension": ".py",
   "mimetype": "text/x-python",
   "name": "python",
   "nbconvert_exporter": "python",
   "pygments_lexer": "ipython3",
   "version": "3.7.6"
  }
 },
 "nbformat": 4,
 "nbformat_minor": 4
}
