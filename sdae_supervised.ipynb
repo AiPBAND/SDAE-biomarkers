{
 "cells": [
  {
   "cell_type": "code",
   "execution_count": null,
   "metadata": {},
   "outputs": [],
   "source": [
    "classes = pd.read_csv('data/pd/class.csv', header=None, index_col=0).values\n",
    "classes = to_categorical(classes)\n",
    "\n",
    "\n",
    "model = EncoderStack(encoder_models, 'output/')\n",
    "\n",
    "print(\"\\n##################################################################\")\n",
    "print(\"Training layer {} with {} hidden nodes..\\n\".format(idx, num_hidden))\n",
    "loss_train, loss_test = model.fit(x_train, y_train, x_test, y_test, batch_size=BATCH_SIZE, num_epochs=EPOCHS)\n",
    "\n",
    "print(\"\\nTraining losss: \", loss_train)\n",
    "print(\"\\nTesting loss: \", loss_test)"
   ]
  }
 ],
 "metadata": {
  "environment": {
   "name": "tf2-2-2-gpu.2-2.m50",
   "type": "gcloud",
   "uri": "gcr.io/deeplearning-platform-release/tf2-2-2-gpu.2-2:m50"
  },
  "kernelspec": {
   "display_name": "Python 3",
   "language": "python",
   "name": "python3"
  },
  "language_info": {
   "codemirror_mode": {
    "name": "ipython",
    "version": 3
   },
   "file_extension": ".py",
   "mimetype": "text/x-python",
   "name": "python",
   "nbconvert_exporter": "python",
   "pygments_lexer": "ipython3",
   "version": "3.7.6"
  }
 },
 "nbformat": 4,
 "nbformat_minor": 4
}
